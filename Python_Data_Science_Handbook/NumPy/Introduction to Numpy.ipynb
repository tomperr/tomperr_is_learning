{
 "cells": [
  {
   "cell_type": "markdown",
   "id": "836384c5",
   "metadata": {},
   "source": [
    "# The Basics of NumPy Arrays"
   ]
  },
  {
   "cell_type": "code",
   "execution_count": 85,
   "id": "afe62ef4",
   "metadata": {},
   "outputs": [],
   "source": [
    "import numpy as np\n",
    "np.random.seed(0)  # seed for reproducibility\n",
    "\n",
    "x1 = np.random.randint(10, size=6)  # One-dimensional array\n",
    "x2 = np.random.randint(10, size=(3, 4))  # Two-dimensional array\n",
    "x3 = np.random.randint(10, size=(3, 4, 5))  # Three-dimensional array"
   ]
  },
  {
   "cell_type": "markdown",
   "id": "d7d4ef1d",
   "metadata": {},
   "source": [
    "Each array has attributes `ndim`, `shape` and `size`"
   ]
  },
  {
   "cell_type": "code",
   "execution_count": 86,
   "id": "14d4d903",
   "metadata": {},
   "outputs": [
    {
     "name": "stdout",
     "output_type": "stream",
     "text": [
      "x3 ndim:  3\n",
      "x3 shape: (3, 4, 5)\n",
      "x3 size:  60\n"
     ]
    }
   ],
   "source": [
    "print(\"x3 ndim: \", x3.ndim)\n",
    "print(\"x3 shape:\", x3.shape)\n",
    "print(\"x3 size: \", x3.size)"
   ]
  },
  {
   "cell_type": "code",
   "execution_count": 87,
   "id": "596928a9",
   "metadata": {},
   "outputs": [
    {
     "name": "stdout",
     "output_type": "stream",
     "text": [
      "dtype: int64\n"
     ]
    }
   ],
   "source": [
    "print(\"dtype:\", x3.dtype)"
   ]
  },
  {
   "cell_type": "markdown",
   "id": "04094e71",
   "metadata": {},
   "source": [
    "Other attributes: `itemsize` for size in bytes of each item, `nbytes` to get the size of the entire aray"
   ]
  },
  {
   "cell_type": "code",
   "execution_count": 88,
   "id": "17d1e5ee",
   "metadata": {},
   "outputs": [
    {
     "name": "stdout",
     "output_type": "stream",
     "text": [
      "itemsize: 8 bytes\n",
      "nbytes: 480 bytes\n"
     ]
    }
   ],
   "source": [
    "print(\"itemsize:\", x3.itemsize, \"bytes\")\n",
    "print(\"nbytes:\", x3.nbytes, \"bytes\")"
   ]
  },
  {
   "cell_type": "markdown",
   "id": "bf659cc9",
   "metadata": {},
   "source": [
    "## Slicing arrays\n",
    "Basically the same as with python lists"
   ]
  },
  {
   "cell_type": "markdown",
   "id": "0e72f9d8",
   "metadata": {},
   "source": [
    "## Subarrays as no-copy views"
   ]
  },
  {
   "cell_type": "markdown",
   "id": "f61358d4",
   "metadata": {},
   "source": [
    "Slices return views and not copies, so updating a subarrays will update the entire array."
   ]
  },
  {
   "cell_type": "code",
   "execution_count": 89,
   "id": "2be500a8",
   "metadata": {},
   "outputs": [
    {
     "name": "stdout",
     "output_type": "stream",
     "text": [
      "[[3 5 2 4]\n",
      " [7 6 8 8]\n",
      " [1 6 7 7]]\n"
     ]
    }
   ],
   "source": [
    "print(x2)"
   ]
  },
  {
   "cell_type": "code",
   "execution_count": 90,
   "id": "9f3a1991",
   "metadata": {},
   "outputs": [
    {
     "name": "stdout",
     "output_type": "stream",
     "text": [
      "[[3 5]\n",
      " [7 6]]\n"
     ]
    }
   ],
   "source": [
    "x2_sub = x2[:2, :2]\n",
    "print(x2_sub)"
   ]
  },
  {
   "cell_type": "code",
   "execution_count": 91,
   "id": "5bfbae4f",
   "metadata": {},
   "outputs": [
    {
     "name": "stdout",
     "output_type": "stream",
     "text": [
      "[[99  5]\n",
      " [ 7  6]]\n"
     ]
    }
   ],
   "source": [
    "x2_sub[0, 0] = 99\n",
    "print(x2_sub)"
   ]
  },
  {
   "cell_type": "code",
   "execution_count": 92,
   "id": "3176c0f5",
   "metadata": {
    "scrolled": true
   },
   "outputs": [
    {
     "name": "stdout",
     "output_type": "stream",
     "text": [
      "[[99  5  2  4]\n",
      " [ 7  6  8  8]\n",
      " [ 1  6  7  7]]\n"
     ]
    }
   ],
   "source": [
    "print(x2)"
   ]
  },
  {
   "cell_type": "markdown",
   "id": "f4a97092",
   "metadata": {},
   "source": [
    "## Creating copies of arrays"
   ]
  },
  {
   "cell_type": "markdown",
   "id": "31e91cc4",
   "metadata": {},
   "source": [
    "Use `copy` method"
   ]
  },
  {
   "cell_type": "code",
   "execution_count": 93,
   "id": "9c28d3e0",
   "metadata": {},
   "outputs": [
    {
     "name": "stdout",
     "output_type": "stream",
     "text": [
      "[[99  5]\n",
      " [ 7  6]]\n"
     ]
    }
   ],
   "source": [
    "x2_sub_copy = x2[:2, :2].copy()\n",
    "print(x2_sub_copy)"
   ]
  },
  {
   "cell_type": "markdown",
   "id": "2bd934d9",
   "metadata": {},
   "source": [
    "## Reshaping of Arrays"
   ]
  },
  {
   "cell_type": "markdown",
   "id": "614603a2",
   "metadata": {},
   "source": [
    "To reshape the arrays, simply use `reshape` method"
   ]
  },
  {
   "cell_type": "markdown",
   "id": "735c8247",
   "metadata": {},
   "source": [
    "Example: turn a one dimension array to a 3x3 matrix"
   ]
  },
  {
   "cell_type": "code",
   "execution_count": 94,
   "id": "3d3ca16f",
   "metadata": {},
   "outputs": [
    {
     "data": {
      "text/plain": [
       "array([[1, 2, 3],\n",
       "       [4, 5, 6],\n",
       "       [7, 8, 9]])"
      ]
     },
     "execution_count": 94,
     "metadata": {},
     "output_type": "execute_result"
    }
   ],
   "source": [
    "np.arange(1,10).reshape((3,3))"
   ]
  },
  {
   "cell_type": "markdown",
   "id": "0044fb61",
   "metadata": {},
   "source": [
    "Same, we can transform a one dimension array into a two-dimension array using `newaxis` keyword"
   ]
  },
  {
   "cell_type": "code",
   "execution_count": 95,
   "id": "ebe18c49",
   "metadata": {},
   "outputs": [
    {
     "name": "stdout",
     "output_type": "stream",
     "text": [
      "[[1 2 3]]\n",
      "[[1 2 3]]\n"
     ]
    }
   ],
   "source": [
    "x = np.array([1,2,3])\n",
    "print(x.reshape((1,3)))\n",
    "print(x[np.newaxis, :])"
   ]
  },
  {
   "cell_type": "markdown",
   "id": "8c5649ff",
   "metadata": {},
   "source": [
    "## Array Concatenation and Splitting"
   ]
  },
  {
   "cell_type": "markdown",
   "id": "8508d136",
   "metadata": {},
   "source": [
    "### Concatenation of arrays "
   ]
  },
  {
   "cell_type": "markdown",
   "id": "f2d755b6",
   "metadata": {},
   "source": [
    "We mainly use `concatenate`, `vstack`, `hstack`"
   ]
  },
  {
   "cell_type": "code",
   "execution_count": 96,
   "id": "59d76b57",
   "metadata": {},
   "outputs": [
    {
     "data": {
      "text/plain": [
       "array([1, 2, 3, 3, 2, 1])"
      ]
     },
     "execution_count": 96,
     "metadata": {},
     "output_type": "execute_result"
    }
   ],
   "source": [
    "x = np.array([1, 2, 3])\n",
    "y = np.array([3, 2, 1])\n",
    "np.concatenate([x, y])"
   ]
  },
  {
   "cell_type": "code",
   "execution_count": 97,
   "id": "3f3d6806",
   "metadata": {},
   "outputs": [
    {
     "name": "stdout",
     "output_type": "stream",
     "text": [
      "[ 1  2  3  3  2  1 99 99 99]\n"
     ]
    }
   ],
   "source": [
    "z = [99, 99, 99]\n",
    "print(np.concatenate([x, y, z]))"
   ]
  },
  {
   "cell_type": "code",
   "execution_count": 98,
   "id": "43fea478",
   "metadata": {},
   "outputs": [
    {
     "data": {
      "text/plain": [
       "array([[1, 2, 3],\n",
       "       [4, 5, 6],\n",
       "       [1, 2, 3],\n",
       "       [4, 5, 6]])"
      ]
     },
     "execution_count": 98,
     "metadata": {},
     "output_type": "execute_result"
    }
   ],
   "source": [
    "grid = np.array([[1, 2, 3],\n",
    "                 [4, 5, 6]])\n",
    "# concatenate along the first axis\n",
    "np.concatenate([grid, grid])"
   ]
  },
  {
   "cell_type": "code",
   "execution_count": 99,
   "id": "83328959",
   "metadata": {},
   "outputs": [
    {
     "data": {
      "text/plain": [
       "array([[1, 2, 3, 1, 2, 3],\n",
       "       [4, 5, 6, 4, 5, 6]])"
      ]
     },
     "execution_count": 99,
     "metadata": {},
     "output_type": "execute_result"
    }
   ],
   "source": [
    "# concatenate along the second axis (zero-indexed)\n",
    "np.concatenate([grid, grid], axis=1)"
   ]
  },
  {
   "cell_type": "markdown",
   "id": "9e4b53f8",
   "metadata": {},
   "source": [
    "For working with arrays of different dimensions, it can be clearer to use `vstack` and `hstack`"
   ]
  },
  {
   "cell_type": "code",
   "execution_count": 100,
   "id": "ae331bfb",
   "metadata": {},
   "outputs": [
    {
     "data": {
      "text/plain": [
       "array([[1, 2, 3],\n",
       "       [9, 8, 7],\n",
       "       [6, 5, 4]])"
      ]
     },
     "execution_count": 100,
     "metadata": {},
     "output_type": "execute_result"
    }
   ],
   "source": [
    "x = np.array([1, 2, 3])\n",
    "grid = np.array([[9, 8, 7],\n",
    "                 [6, 5, 4]])\n",
    "\n",
    "# vertically stack the arrays\n",
    "np.vstack([x, grid])"
   ]
  },
  {
   "cell_type": "code",
   "execution_count": 101,
   "id": "5fc9511d",
   "metadata": {},
   "outputs": [
    {
     "data": {
      "text/plain": [
       "array([[ 9,  8,  7, 99],\n",
       "       [ 6,  5,  4, 99]])"
      ]
     },
     "execution_count": 101,
     "metadata": {},
     "output_type": "execute_result"
    }
   ],
   "source": [
    "# horizontally stack the arrays\n",
    "y = np.array([[99],\n",
    "              [99]])\n",
    "np.hstack([grid, y])"
   ]
  },
  {
   "cell_type": "markdown",
   "id": "39cdcc28",
   "metadata": {},
   "source": [
    "Similary, `dstack` will stack arrays along the third axis"
   ]
  },
  {
   "cell_type": "markdown",
   "id": "2da4e463",
   "metadata": {},
   "source": [
    "### Splitting of arrays"
   ]
  },
  {
   "cell_type": "markdown",
   "id": "e1fc1ffb",
   "metadata": {},
   "source": [
    "In opposition to concatenation, we may also want to split an array sometimes. To do so, as we do for concatenation, with use `split`, `hsplit` and `vsplit`. To these functions, we prodvide the indices of the split points"
   ]
  },
  {
   "cell_type": "code",
   "execution_count": 102,
   "id": "4aa2be46",
   "metadata": {},
   "outputs": [
    {
     "name": "stdout",
     "output_type": "stream",
     "text": [
      "[1 2 3] [99 99] [3 2 1]\n"
     ]
    }
   ],
   "source": [
    "x = [1, 2, 3, 99, 99, 3, 2, 1]\n",
    "x1, x2, x3 = np.split(x, [3, 5])\n",
    "print(x1, x2, x3)"
   ]
  },
  {
   "cell_type": "code",
   "execution_count": 103,
   "id": "f4faf2dd",
   "metadata": {},
   "outputs": [
    {
     "name": "stdout",
     "output_type": "stream",
     "text": [
      "[[0 1 2 3]\n",
      " [4 5 6 7]]\n",
      "[[ 8  9 10 11]\n",
      " [12 13 14 15]]\n"
     ]
    }
   ],
   "source": [
    "grid = np.arange(16).reshape((4, 4))\n",
    "upper, lower = np.vsplit(grid, [2])\n",
    "print(upper)\n",
    "print(lower)"
   ]
  },
  {
   "cell_type": "code",
   "execution_count": 104,
   "id": "c21d9684",
   "metadata": {},
   "outputs": [
    {
     "name": "stdout",
     "output_type": "stream",
     "text": [
      "[[ 0  1]\n",
      " [ 4  5]\n",
      " [ 8  9]\n",
      " [12 13]]\n",
      "[[ 2  3]\n",
      " [ 6  7]\n",
      " [10 11]\n",
      " [14 15]]\n"
     ]
    }
   ],
   "source": [
    "left, right = np.hsplit(grid, [2])\n",
    "print(left)\n",
    "print(right)"
   ]
  },
  {
   "cell_type": "markdown",
   "id": "e7d0e640",
   "metadata": {},
   "source": [
    "Also, we can use `dsplit` to split along third axis"
   ]
  },
  {
   "cell_type": "markdown",
   "id": "307bd909",
   "metadata": {},
   "source": [
    "# Computation on NumPy Arrays: Universal Functions"
   ]
  },
  {
   "cell_type": "markdown",
   "id": "b3dba51f",
   "metadata": {},
   "source": [
    "Depending on implementation, computations of NumPy arrays can be really fast or really slow. The key to make it fast is to use _vectorized_ operations, generally implemented through NumPy's _universal functions (ufuncs)_."
   ]
  },
  {
   "cell_type": "markdown",
   "id": "7e2004b3",
   "metadata": {},
   "source": [
    "## The Slowness of Loops"
   ]
  },
  {
   "cell_type": "markdown",
   "id": "d4e115b3",
   "metadata": {},
   "source": [
    "Python's loops are slow because of the way data are stored (with dynamic typing). It's really slow when small operations are being repeated."
   ]
  },
  {
   "cell_type": "markdown",
   "id": "184bc2e0",
   "metadata": {},
   "source": [
    "Example to compute the reciprocal of each element of an array:"
   ]
  },
  {
   "cell_type": "code",
   "execution_count": 105,
   "id": "1af18c31",
   "metadata": {},
   "outputs": [
    {
     "data": {
      "text/plain": [
       "array([0.16666667, 1.        , 0.25      , 0.25      , 0.125     ])"
      ]
     },
     "execution_count": 105,
     "metadata": {},
     "output_type": "execute_result"
    }
   ],
   "source": [
    "import numpy as np\n",
    "np.random.seed(0)\n",
    "\n",
    "def compute_reciprocals(values):\n",
    "    output = np.empty(len(values))\n",
    "    for i in range(len(values)):\n",
    "        output[i] = 1.0 / values[i]\n",
    "    return output\n",
    "        \n",
    "values = np.random.randint(1, 10, size=5)\n",
    "compute_reciprocals(values)"
   ]
  },
  {
   "cell_type": "markdown",
   "id": "0f0fe7fb",
   "metadata": {},
   "source": [
    "We can measure the performance with a big array"
   ]
  },
  {
   "cell_type": "code",
   "execution_count": 106,
   "id": "9f03d378",
   "metadata": {},
   "outputs": [
    {
     "name": "stdout",
     "output_type": "stream",
     "text": [
      "1.79 s ± 3.71 ms per loop (mean ± std. dev. of 7 runs, 1 loop each)\n"
     ]
    }
   ],
   "source": [
    "big_array = np.random.randint(1, 100, size=1000000)\n",
    "%timeit compute_reciprocals(big_array)"
   ]
  },
  {
   "cell_type": "markdown",
   "id": "6dadd3ff",
   "metadata": {},
   "source": [
    "The reason of this slowness is not the operations in themself, but the type checking for each element. Using a ufunc solves this."
   ]
  },
  {
   "cell_type": "code",
   "execution_count": 107,
   "id": "da4bcd16",
   "metadata": {},
   "outputs": [
    {
     "name": "stdout",
     "output_type": "stream",
     "text": [
      "1.55 ms ± 51.9 µs per loop (mean ± std. dev. of 7 runs, 1,000 loops each)\n"
     ]
    }
   ],
   "source": [
    "%timeit 1/big_array"
   ]
  },
  {
   "cell_type": "markdown",
   "id": "09a0ddc6",
   "metadata": {},
   "source": [
    "Basically, vectorized operations in NumPy are implemented via _ufuncs_, \n",
    "whose main purpose is to quicklu execute repeated operations on values in NumPy arrays.\n"
   ]
  },
  {
   "cell_type": "markdown",
   "id": "09d06c01",
   "metadata": {},
   "source": [
    "As ufuncs are extrimely flexible, we can also operate between two arrays:"
   ]
  },
  {
   "cell_type": "code",
   "execution_count": 108,
   "id": "3dd2db7d",
   "metadata": {},
   "outputs": [
    {
     "data": {
      "text/plain": [
       "array([0.        , 0.5       , 0.66666667, 0.75      , 0.8       ])"
      ]
     },
     "execution_count": 108,
     "metadata": {},
     "output_type": "execute_result"
    }
   ],
   "source": [
    "np.arange(5)/np.arange(1,6)"
   ]
  },
  {
   "cell_type": "markdown",
   "id": "1486dbad",
   "metadata": {},
   "source": [
    "ufunc operations also work on multi-dimensional arrays"
   ]
  },
  {
   "cell_type": "code",
   "execution_count": 109,
   "id": "f002e8ec",
   "metadata": {},
   "outputs": [
    {
     "data": {
      "text/plain": [
       "array([[  1,   2,   4],\n",
       "       [  8,  16,  32],\n",
       "       [ 64, 128, 256]])"
      ]
     },
     "execution_count": 109,
     "metadata": {},
     "output_type": "execute_result"
    }
   ],
   "source": [
    "x = np.arange(9).reshape((3, 3))\n",
    "2 ** x"
   ]
  },
  {
   "cell_type": "markdown",
   "id": "2fbc73ac",
   "metadata": {},
   "source": [
    "## Exploring NumPy's UFuncs"
   ]
  },
  {
   "cell_type": "markdown",
   "id": "bf475c89",
   "metadata": {},
   "source": [
    "There are a lot of arithmetical operations, such as `+ - * /`..."
   ]
  },
  {
   "cell_type": "markdown",
   "id": "3945704d",
   "metadata": {},
   "source": [
    "### Absolute values"
   ]
  },
  {
   "cell_type": "code",
   "execution_count": 110,
   "id": "f144dd08",
   "metadata": {},
   "outputs": [
    {
     "data": {
      "text/plain": [
       "array([1, 2, 3, 1])"
      ]
     },
     "execution_count": 110,
     "metadata": {},
     "output_type": "execute_result"
    }
   ],
   "source": [
    "x = np.array([1,2,-3,4-5])\n",
    "np.abs(x)"
   ]
  },
  {
   "cell_type": "markdown",
   "id": "af222913",
   "metadata": {},
   "source": [
    "### Trigonometric functions\n",
    "`np.sin`, `np.cos`, `np.tan`"
   ]
  },
  {
   "cell_type": "markdown",
   "id": "dc7e785d",
   "metadata": {},
   "source": [
    "### Exponents and logarithms\n",
    "`np.exp`, `np.exp2`, `np.power` \\\n",
    "`np.log`, `np.log2`, `np.log10` \\\n",
    "To keep precision with very small inputs: `np.expm1`, `np.log1p`"
   ]
  },
  {
   "cell_type": "markdown",
   "id": "c4f6ed36",
   "metadata": {},
   "source": [
    "### Specialized ufuncs"
   ]
  },
  {
   "cell_type": "markdown",
   "id": "4870f8d1",
   "metadata": {},
   "source": [
    "NumPy has many more ufuncs, especially in the `scipy` module "
   ]
  },
  {
   "cell_type": "code",
   "execution_count": 111,
   "id": "085372a8",
   "metadata": {},
   "outputs": [],
   "source": [
    "from scipy import special"
   ]
  },
  {
   "cell_type": "markdown",
   "id": "b8548be3",
   "metadata": {},
   "source": [
    "### Specifying output"
   ]
  },
  {
   "cell_type": "markdown",
   "id": "227123d5",
   "metadata": {},
   "source": [
    "Using the `out` arguments, we can specify an output for each ufunc."
   ]
  },
  {
   "cell_type": "code",
   "execution_count": 112,
   "id": "6ad3baf6",
   "metadata": {},
   "outputs": [
    {
     "name": "stdout",
     "output_type": "stream",
     "text": [
      "[ 0. 10. 20. 30. 40.]\n"
     ]
    }
   ],
   "source": [
    "x = np.arange(5)\n",
    "y = np.empty(5)\n",
    "np.multiply(x, 10, out=y)\n",
    "print(y)"
   ]
  },
  {
   "cell_type": "markdown",
   "id": "05d05e17",
   "metadata": {},
   "source": [
    "This also works with array views"
   ]
  },
  {
   "cell_type": "code",
   "execution_count": 113,
   "id": "136b522a",
   "metadata": {},
   "outputs": [
    {
     "name": "stdout",
     "output_type": "stream",
     "text": [
      "[ 1.  0.  2.  0.  4.  0.  8.  0. 16.  0.]\n"
     ]
    }
   ],
   "source": [
    "y = np.zeros(10)\n",
    "np.power(2,x, out=y[::2])\n",
    "print(y)"
   ]
  },
  {
   "cell_type": "markdown",
   "id": "24919c5d",
   "metadata": {},
   "source": [
    "If we had instead written `y[::2] = 2 ** x`, a temporay array would have been created and then copied into `y`. With huge volume of data it could make a difference."
   ]
  },
  {
   "cell_type": "markdown",
   "id": "212049d3",
   "metadata": {},
   "source": [
    "### Aggregates"
   ]
  },
  {
   "cell_type": "markdown",
   "id": "e3dd9055",
   "metadata": {},
   "source": [
    "Aggregates can sometimes be computed directly from the object, for example if `reduce` method."
   ]
  },
  {
   "cell_type": "code",
   "execution_count": 114,
   "id": "7aacdc56",
   "metadata": {},
   "outputs": [
    {
     "name": "stdout",
     "output_type": "stream",
     "text": [
      "15\n",
      "120\n"
     ]
    }
   ],
   "source": [
    "x = np.arange(1,6)\n",
    "print(np.add.reduce(x))\n",
    "print(np.multiply.reduce(x))"
   ]
  },
  {
   "cell_type": "markdown",
   "id": "22e766f0",
   "metadata": {},
   "source": [
    "To store intermediates results, use `accumulate`:"
   ]
  },
  {
   "cell_type": "code",
   "execution_count": 115,
   "id": "497932b4",
   "metadata": {},
   "outputs": [
    {
     "data": {
      "text/plain": [
       "array([ 1,  3,  6, 10, 15])"
      ]
     },
     "execution_count": 115,
     "metadata": {},
     "output_type": "execute_result"
    }
   ],
   "source": [
    "np.add.accumulate(x)"
   ]
  },
  {
   "cell_type": "markdown",
   "id": "f2b48990",
   "metadata": {},
   "source": [
    "### Outer products"
   ]
  },
  {
   "cell_type": "markdown",
   "id": "2f22f177",
   "metadata": {},
   "source": [
    "Any ufunc can compute the output of all pairs of two different inputs using the `outer` method."
   ]
  },
  {
   "cell_type": "code",
   "execution_count": 116,
   "id": "2dbdf6a4",
   "metadata": {},
   "outputs": [
    {
     "data": {
      "text/plain": [
       "array([[ 1,  2,  3,  4,  5],\n",
       "       [ 2,  4,  6,  8, 10],\n",
       "       [ 3,  6,  9, 12, 15],\n",
       "       [ 4,  8, 12, 16, 20],\n",
       "       [ 5, 10, 15, 20, 25]])"
      ]
     },
     "execution_count": 116,
     "metadata": {},
     "output_type": "execute_result"
    }
   ],
   "source": [
    "x = np.arange(1,6)\n",
    "np.multiply.outer(x,x)"
   ]
  },
  {
   "cell_type": "markdown",
   "id": "4acc6af8",
   "metadata": {},
   "source": [
    "## More about UFuncs"
   ]
  },
  {
   "cell_type": "markdown",
   "id": "495e7a1b",
   "metadata": {},
   "source": [
    "Check NumPy and SciPy offcial sites"
   ]
  },
  {
   "cell_type": "markdown",
   "id": "ba6c9f4b",
   "metadata": {},
   "source": [
    "# Aggregations: Min, Max, and Everything In Between"
   ]
  },
  {
   "cell_type": "markdown",
   "id": "5a79bcb7",
   "metadata": {},
   "source": [
    "Some of the following functions can also be called from the object directly (i.e.: `np.arange(5).sum()`)\n",
    "- `np.sum`\n",
    "- `np.min`\n",
    "- `np.max`"
   ]
  },
  {
   "cell_type": "markdown",
   "id": "16323b4e",
   "metadata": {},
   "source": [
    "### Multidimensional "
   ]
  },
  {
   "cell_type": "markdown",
   "id": "308dae8e",
   "metadata": {},
   "source": [
    "The axis (for a sum for example) can be specified."
   ]
  },
  {
   "cell_type": "code",
   "execution_count": 117,
   "id": "611267af",
   "metadata": {},
   "outputs": [
    {
     "name": "stdout",
     "output_type": "stream",
     "text": [
      "[[0.25241011 0.97572458 0.1197632  0.20856888]\n",
      " [0.23983126 0.39034023 0.61318864 0.8603706 ]\n",
      " [0.34645385 0.2939397  0.39274799 0.69444295]]\n",
      "[0.23983126 0.2939397  0.1197632  0.20856888]\n"
     ]
    }
   ],
   "source": [
    "M = np.random.random((3, 4))\n",
    "print(M)\n",
    "print(M.min(axis=0))"
   ]
  },
  {
   "cell_type": "markdown",
   "id": "1f796cdf",
   "metadata": {},
   "source": [
    "### Other aggregation functions"
   ]
  },
  {
   "cell_type": "markdown",
   "id": "b32f4964",
   "metadata": {},
   "source": [
    "- `np.prod`\n",
    "- `np.mean`\n",
    "- `np.std`\n",
    "- `np.var`\n",
    "- `np.argmin`\n",
    "- `np.argmax`\n",
    "- `np.median`\n",
    "- `np.percentile`\n",
    "- `np.any`\n",
    "- `np.all` \\\n",
    "For most of these functions, a NaN-safe version exists, prefixed by `nan` (i.e.: `np.nansum`)"
   ]
  },
  {
   "cell_type": "markdown",
   "id": "3a28f3b6",
   "metadata": {},
   "source": [
    "# Computation on Arrays: Broadcasting"
   ]
  },
  {
   "cell_type": "markdown",
   "id": "a6a86438",
   "metadata": {},
   "source": [
    "Broadcasting is simply a set of rules for applying binary ufuncs on arrays of different sizes"
   ]
  },
  {
   "cell_type": "code",
   "execution_count": 118,
   "id": "0390232f",
   "metadata": {},
   "outputs": [
    {
     "data": {
      "text/plain": [
       "array([5, 6, 7])"
      ]
     },
     "execution_count": 118,
     "metadata": {},
     "output_type": "execute_result"
    }
   ],
   "source": [
    "a = np.array([0,1,2])\n",
    "a + 5"
   ]
  },
  {
   "cell_type": "markdown",
   "id": "b3f10b27",
   "metadata": {},
   "source": [
    "We can think of it as an addition with `[5,5,5]`"
   ]
  },
  {
   "cell_type": "code",
   "execution_count": 119,
   "id": "edfb95dc",
   "metadata": {},
   "outputs": [
    {
     "data": {
      "text/plain": [
       "array([[1., 2., 3.],\n",
       "       [1., 2., 3.],\n",
       "       [1., 2., 3.]])"
      ]
     },
     "execution_count": 119,
     "metadata": {},
     "output_type": "execute_result"
    }
   ],
   "source": [
    "M = np.ones((3, 3))\n",
    "M + a"
   ]
  },
  {
   "cell_type": "code",
   "execution_count": 120,
   "id": "e81eaa75",
   "metadata": {},
   "outputs": [
    {
     "name": "stdout",
     "output_type": "stream",
     "text": [
      "[0 1 2]\n",
      "[[0]\n",
      " [1]\n",
      " [2]]\n",
      "[[0 1 2]\n",
      " [1 2 3]\n",
      " [2 3 4]]\n"
     ]
    }
   ],
   "source": [
    "a = np.arange(3)\n",
    "b = np.arange(3)[:, np.newaxis]\n",
    "\n",
    "print(a)\n",
    "print(b)\n",
    "print(a+b)"
   ]
  },
  {
   "attachments": {
    "02.05-broadcasting.png": {
     "image/png": "[encoded data removed]"
    }
   },
   "cell_type": "markdown",
   "id": "bca811a3",
   "metadata": {},
   "source": [
    "![02.05-broadcasting.png](attachment:02.05-broadcasting.png)"
   ]
  },
  {
   "cell_type": "markdown",
   "id": "a52ffb6c",
   "metadata": {},
   "source": [
    "## Rules of Broadcasting"
   ]
  },
  {
   "cell_type": "markdown",
   "id": "a349925e",
   "metadata": {},
   "source": [
    "- Rule 1: If the two arrays differ in their number of dimensions, the shape of the one with fewer dimensions is padded with ones on its leading (left) side.\n",
    "- Rule 2: If the shape of the two arrays does not match in any dimension, the array with shape equal to 1 in that dimension is stretched to match the other shape.\n",
    "- Rule 3:  If in any dimension the sizes disagree and neither is equal to 1, an error is raised."
   ]
  },
  {
   "cell_type": "markdown",
   "id": "ac36612e",
   "metadata": {},
   "source": [
    "### Centering an array"
   ]
  },
  {
   "cell_type": "code",
   "execution_count": 121,
   "id": "80d36b13",
   "metadata": {},
   "outputs": [
    {
     "data": {
      "text/plain": [
       "array([[ 0.13390251,  0.24086069, -0.22426649],\n",
       "       [ 0.33952201, -0.3729474 ,  0.16225666],\n",
       "       [-0.23344116,  0.40600215, -0.29789956],\n",
       "       [-0.37049928, -0.15544538,  0.40491833],\n",
       "       [-0.12728214, -0.32052327, -0.27234343],\n",
       "       [-0.51629048, -0.23161475,  0.09940704],\n",
       "       [ 0.300402  , -0.30309778, -0.24499524],\n",
       "       [-0.15591709, -0.01061095, -0.0132487 ],\n",
       "       [ 0.41818552,  0.15727945,  0.4742515 ],\n",
       "       [ 0.21141812,  0.59009724, -0.0880801 ]])"
      ]
     },
     "execution_count": 121,
     "metadata": {},
     "output_type": "execute_result"
    }
   ],
   "source": [
    "X = np.random.random((10,3))\n",
    "Xmean = X.mean(0)\n",
    "X - Xmean"
   ]
  },
  {
   "cell_type": "markdown",
   "id": "9988e27e",
   "metadata": {},
   "source": [
    "###  Plotting a two-dimensional function"
   ]
  },
  {
   "cell_type": "code",
   "execution_count": 122,
   "id": "bafe0049",
   "metadata": {},
   "outputs": [
    {
     "name": "stdout",
     "output_type": "stream",
     "text": [
      "[0.         0.10204082 0.20408163 0.30612245 0.40816327 0.51020408\n",
      " 0.6122449  0.71428571 0.81632653 0.91836735 1.02040816 1.12244898\n",
      " 1.2244898  1.32653061 1.42857143 1.53061224 1.63265306 1.73469388\n",
      " 1.83673469 1.93877551 2.04081633 2.14285714 2.24489796 2.34693878\n",
      " 2.44897959 2.55102041 2.65306122 2.75510204 2.85714286 2.95918367\n",
      " 3.06122449 3.16326531 3.26530612 3.36734694 3.46938776 3.57142857\n",
      " 3.67346939 3.7755102  3.87755102 3.97959184 4.08163265 4.18367347\n",
      " 4.28571429 4.3877551  4.48979592 4.59183673 4.69387755 4.79591837\n",
      " 4.89795918 5.        ]\n",
      "[[0.        ]\n",
      " [0.10204082]\n",
      " [0.20408163]\n",
      " [0.30612245]\n",
      " [0.40816327]\n",
      " [0.51020408]\n",
      " [0.6122449 ]\n",
      " [0.71428571]\n",
      " [0.81632653]\n",
      " [0.91836735]\n",
      " [1.02040816]\n",
      " [1.12244898]\n",
      " [1.2244898 ]\n",
      " [1.32653061]\n",
      " [1.42857143]\n",
      " [1.53061224]\n",
      " [1.63265306]\n",
      " [1.73469388]\n",
      " [1.83673469]\n",
      " [1.93877551]\n",
      " [2.04081633]\n",
      " [2.14285714]\n",
      " [2.24489796]\n",
      " [2.34693878]\n",
      " [2.44897959]\n",
      " [2.55102041]\n",
      " [2.65306122]\n",
      " [2.75510204]\n",
      " [2.85714286]\n",
      " [2.95918367]\n",
      " [3.06122449]\n",
      " [3.16326531]\n",
      " [3.26530612]\n",
      " [3.36734694]\n",
      " [3.46938776]\n",
      " [3.57142857]\n",
      " [3.67346939]\n",
      " [3.7755102 ]\n",
      " [3.87755102]\n",
      " [3.97959184]\n",
      " [4.08163265]\n",
      " [4.18367347]\n",
      " [4.28571429]\n",
      " [4.3877551 ]\n",
      " [4.48979592]\n",
      " [4.59183673]\n",
      " [4.69387755]\n",
      " [4.79591837]\n",
      " [4.89795918]\n",
      " [5.        ]]\n",
      "[[-0.83907153 -0.83470697 -0.8216586  ...  0.8956708   0.68617261\n",
      "   0.41940746]\n",
      " [-0.83907153 -0.82902677 -0.8103873  ...  0.92522407  0.75321348\n",
      "   0.52508175]\n",
      " [-0.83907153 -0.82325668 -0.79876457 ...  0.96427357  0.84172689\n",
      "   0.66446403]\n",
      " ...\n",
      " [-0.83907153 -0.48233077 -0.01646558 ...  0.96449925  0.75196531\n",
      "   0.41982581]\n",
      " [-0.83907153 -0.47324558  0.00392612 ...  0.92542163  0.68540362\n",
      "   0.37440839]\n",
      " [-0.83907153 -0.46410908  0.02431613 ...  0.89579384  0.65690314\n",
      "   0.40107702]]\n"
     ]
    }
   ],
   "source": [
    "# x and y have 50 steps from 0 to 5\n",
    "x = np.linspace(0, 5, 50)\n",
    "y = np.linspace(0, 5, 50)[:, np.newaxis]\n",
    "\n",
    "z = np.sin(x) ** 10 + np.cos(10 + y * x) * np.cos(x)\n",
    "\n",
    "print(x)\n",
    "print(y)\n",
    "print(z)"
   ]
  },
  {
   "cell_type": "code",
   "execution_count": 123,
   "id": "4d56a365",
   "metadata": {},
   "outputs": [],
   "source": [
    "%matplotlib inline\n",
    "import matplotlib.pyplot as plt"
   ]
  },
  {
   "cell_type": "code",
   "execution_count": 124,
   "id": "6e0a2780",
   "metadata": {},
   "outputs": [
    {
     "name": "stderr",
     "output_type": "stream",
     "text": [
      "/tmp/ipykernel_10034/169681219.py:3: MatplotlibDeprecationWarning: Auto-removal of grids by pcolor() and pcolormesh() is deprecated since 3.5 and will be removed two minor releases later; please call grid(False) first.\n",
      "  plt.colorbar()\n"
     ]
    },
    {
     "data": {
      "text/plain": [
       "<matplotlib.colorbar.Colorbar at 0x7fae55192ac0>"
      ]
     },
     "execution_count": 124,
     "metadata": {},
     "output_type": "execute_result"
    },
    {
     "data": {
      "image/png": "[encoded data removed]",
      "text/plain": [
       "<Figure size 432x288 with 2 Axes>"
      ]
     },
     "metadata": {
      "needs_background": "light"
     },
     "output_type": "display_data"
    }
   ],
   "source": [
    "plt.imshow(z, origin='lower', extent=[0, 5, 0, 5],\n",
    "           cmap='viridis')\n",
    "plt.colorbar()"
   ]
  },
  {
   "cell_type": "markdown",
   "id": "baa7d181",
   "metadata": {},
   "source": [
    "# Comparisons, Masks, and Boolean logic"
   ]
  },
  {
   "cell_type": "markdown",
   "id": "801a98c9",
   "metadata": {},
   "source": [
    "Maskip comes up when you want to extract, modify, count, or otherwise manipulate values in an array based on some criterion."
   ]
  },
  {
   "cell_type": "markdown",
   "id": "9150edbb",
   "metadata": {},
   "source": [
    "## Comparison Operators as ufuncs\n"
   ]
  },
  {
   "cell_type": "code",
   "execution_count": 125,
   "id": "2aed789a",
   "metadata": {},
   "outputs": [],
   "source": [
    "x = np.array([1,2,3,4,5])"
   ]
  },
  {
   "cell_type": "code",
   "execution_count": 126,
   "id": "ae1e6780",
   "metadata": {},
   "outputs": [
    {
     "data": {
      "text/plain": [
       "array([ True,  True, False, False, False])"
      ]
     },
     "execution_count": 126,
     "metadata": {},
     "output_type": "execute_result"
    }
   ],
   "source": [
    "x < 3"
   ]
  },
  {
   "cell_type": "code",
   "execution_count": 127,
   "id": "ba7ad33c",
   "metadata": {},
   "outputs": [
    {
     "data": {
      "text/plain": [
       "array([ True,  True,  True, False, False])"
      ]
     },
     "execution_count": 127,
     "metadata": {},
     "output_type": "execute_result"
    }
   ],
   "source": [
    "x <= 3"
   ]
  },
  {
   "cell_type": "markdown",
   "id": "6e0a5338",
   "metadata": {},
   "source": [
    "- `==`: `np.equal`\n",
    "- `<`: `np.less`\n",
    "- `>`: `np.greater`\n",
    "- `!=`: `np.not_equal`\n",
    "- `<=`: `np.less_equal`\n",
    "- `>=`: `np.greater_equal`"
   ]
  },
  {
   "cell_type": "markdown",
   "id": "04e83ce5",
   "metadata": {},
   "source": [
    "### Counting entries"
   ]
  },
  {
   "cell_type": "code",
   "execution_count": 128,
   "id": "d0bae97f",
   "metadata": {},
   "outputs": [
    {
     "data": {
      "text/plain": [
       "array([[5, 0, 3, 3],\n",
       "       [7, 9, 3, 5],\n",
       "       [2, 4, 7, 6]])"
      ]
     },
     "execution_count": 128,
     "metadata": {},
     "output_type": "execute_result"
    }
   ],
   "source": [
    "rng = np.random.RandomState(0)\n",
    "x = rng.randint(10, size=(3, 4))\n",
    "x"
   ]
  },
  {
   "cell_type": "code",
   "execution_count": 129,
   "id": "cd8bd582",
   "metadata": {},
   "outputs": [
    {
     "data": {
      "text/plain": [
       "8"
      ]
     },
     "execution_count": 129,
     "metadata": {},
     "output_type": "execute_result"
    }
   ],
   "source": [
    "np.count_nonzero(x < 6)"
   ]
  },
  {
   "cell_type": "markdown",
   "id": "971d4d42",
   "metadata": {},
   "source": [
    "We can also use `np.sum`, as `False` is 0 and `True` is 1"
   ]
  },
  {
   "cell_type": "code",
   "execution_count": 130,
   "id": "20ec9727",
   "metadata": {},
   "outputs": [
    {
     "data": {
      "text/plain": [
       "array([4, 2, 2])"
      ]
     },
     "execution_count": 130,
     "metadata": {},
     "output_type": "execute_result"
    }
   ],
   "source": [
    "np.sum(x<6, axis=1)"
   ]
  },
  {
   "cell_type": "markdown",
   "id": "5c9de525",
   "metadata": {},
   "source": [
    "To check if at least one is true"
   ]
  },
  {
   "cell_type": "code",
   "execution_count": 131,
   "id": "90778522",
   "metadata": {},
   "outputs": [
    {
     "data": {
      "text/plain": [
       "True"
      ]
     },
     "execution_count": 131,
     "metadata": {},
     "output_type": "execute_result"
    }
   ],
   "source": [
    "np.any(x > 6)"
   ]
  },
  {
   "cell_type": "markdown",
   "id": "364cd9ea",
   "metadata": {},
   "source": [
    "To check if all the values are true"
   ]
  },
  {
   "cell_type": "code",
   "execution_count": 132,
   "id": "11f70b06",
   "metadata": {},
   "outputs": [
    {
     "data": {
      "text/plain": [
       "False"
      ]
     },
     "execution_count": 132,
     "metadata": {},
     "output_type": "execute_result"
    }
   ],
   "source": [
    "np.all(x > 6)"
   ]
  },
  {
   "cell_type": "markdown",
   "id": "52c28001",
   "metadata": {},
   "source": [
    "### Boolean operators"
   ]
  },
  {
   "cell_type": "markdown",
   "id": "cb1c20c7",
   "metadata": {},
   "source": [
    "Same as with comparisons, booleans operators have been overwritten with ufuncs"
   ]
  },
  {
   "cell_type": "markdown",
   "id": "de9c4ad6",
   "metadata": {},
   "source": [
    "## Boolean Arrays as Masks"
   ]
  },
  {
   "cell_type": "code",
   "execution_count": 133,
   "id": "29e83896",
   "metadata": {},
   "outputs": [
    {
     "data": {
      "text/plain": [
       "array([0, 3, 3, 3, 2, 4])"
      ]
     },
     "execution_count": 133,
     "metadata": {},
     "output_type": "execute_result"
    }
   ],
   "source": [
    "x[x < 5]"
   ]
  },
  {
   "cell_type": "markdown",
   "id": "3ca5fdd1",
   "metadata": {},
   "source": [
    "# Fancy Indexing"
   ]
  },
  {
   "cell_type": "markdown",
   "id": "d2954c07",
   "metadata": {},
   "source": [
    "We can fetch multiple value at the same time from an array\n"
   ]
  },
  {
   "cell_type": "code",
   "execution_count": 134,
   "id": "c18943ae",
   "metadata": {},
   "outputs": [
    {
     "name": "stdout",
     "output_type": "stream",
     "text": [
      "[51 92 14 71 60 20 82 86 74 74]\n"
     ]
    }
   ],
   "source": [
    "import numpy as np\n",
    "rand = np.random.RandomState(42)\n",
    "\n",
    "x = rand.randint(100, size=10)\n",
    "print(x)"
   ]
  },
  {
   "cell_type": "code",
   "execution_count": 135,
   "id": "42dd7058",
   "metadata": {},
   "outputs": [
    {
     "data": {
      "text/plain": [
       "array([71, 86, 60])"
      ]
     },
     "execution_count": 135,
     "metadata": {},
     "output_type": "execute_result"
    }
   ],
   "source": [
    "ind = [3, 7, 4]\n",
    "x[ind]"
   ]
  },
  {
   "cell_type": "markdown",
   "id": "479924e0",
   "metadata": {},
   "source": [
    "Fancy indexing also works in multiple dimensions."
   ]
  },
  {
   "cell_type": "code",
   "execution_count": 136,
   "id": "661d7397",
   "metadata": {},
   "outputs": [
    {
     "data": {
      "text/plain": [
       "array([[ 0,  1,  2,  3],\n",
       "       [ 4,  5,  6,  7],\n",
       "       [ 8,  9, 10, 11]])"
      ]
     },
     "execution_count": 136,
     "metadata": {},
     "output_type": "execute_result"
    }
   ],
   "source": [
    "X = np.arange(12).reshape((3, 4))\n",
    "X"
   ]
  },
  {
   "cell_type": "code",
   "execution_count": 137,
   "id": "3e730402",
   "metadata": {},
   "outputs": [
    {
     "data": {
      "text/plain": [
       "array([ 2,  5, 11])"
      ]
     },
     "execution_count": 137,
     "metadata": {},
     "output_type": "execute_result"
    }
   ],
   "source": [
    "row = np.array([0, 1, 2])\n",
    "col = np.array([2, 1, 3])\n",
    "X[row, col]"
   ]
  },
  {
   "cell_type": "markdown",
   "id": "c9b35b75",
   "metadata": {},
   "source": [
    "## Combined Indexing"
   ]
  },
  {
   "cell_type": "code",
   "execution_count": 138,
   "id": "b8d62410",
   "metadata": {},
   "outputs": [
    {
     "data": {
      "text/plain": [
       "array([10,  8,  9])"
      ]
     },
     "execution_count": 138,
     "metadata": {},
     "output_type": "execute_result"
    }
   ],
   "source": [
    "X[2, [2, 0, 1]]"
   ]
  },
  {
   "cell_type": "code",
   "execution_count": 139,
   "id": "a26ba31c",
   "metadata": {},
   "outputs": [
    {
     "data": {
      "text/plain": [
       "array([[ 6,  4,  5],\n",
       "       [10,  8,  9]])"
      ]
     },
     "execution_count": 139,
     "metadata": {},
     "output_type": "execute_result"
    }
   ],
   "source": [
    "X[1:, [2, 0, 1]]"
   ]
  },
  {
   "cell_type": "markdown",
   "id": "d3447ad3",
   "metadata": {},
   "source": [
    "## Modifying Values with Fancy Indexing"
   ]
  },
  {
   "cell_type": "code",
   "execution_count": 140,
   "id": "adc1f143",
   "metadata": {},
   "outputs": [
    {
     "name": "stdout",
     "output_type": "stream",
     "text": [
      "[ 0 99 99  3 99  5  6  7 99  9]\n"
     ]
    }
   ],
   "source": [
    "x = np.arange(10)\n",
    "i = np.array([2,1,8,4])\n",
    "x[i] = 99\n",
    "print(x)"
   ]
  },
  {
   "cell_type": "markdown",
   "id": "9a26b1bf",
   "metadata": {},
   "source": [
    "Increading (with `+= 1`) many times on the same item won't work"
   ]
  },
  {
   "cell_type": "code",
   "execution_count": 141,
   "id": "0980ea76",
   "metadata": {},
   "outputs": [
    {
     "name": "stdout",
     "output_type": "stream",
     "text": [
      "[  0  99 100   4 100   5   6   7  99   9]\n"
     ]
    }
   ],
   "source": [
    "i = [2,3,3,4,4,4]\n",
    "x[i] += 1\n",
    "print(x)"
   ]
  },
  {
   "cell_type": "markdown",
   "id": "65087c56",
   "metadata": {},
   "source": [
    "For this, use `at` method of ufuncs"
   ]
  },
  {
   "cell_type": "code",
   "execution_count": 142,
   "id": "8f865e88",
   "metadata": {},
   "outputs": [
    {
     "name": "stdout",
     "output_type": "stream",
     "text": [
      "[0. 0. 1. 2. 3. 0. 0. 0. 0. 0.]\n"
     ]
    }
   ],
   "source": [
    "x = np.zeros(10)\n",
    "np.add.at(x,i,1)\n",
    "print(x)"
   ]
  },
  {
   "cell_type": "markdown",
   "id": "3c18e67c",
   "metadata": {},
   "source": [
    "# Sorting Arrays"
   ]
  },
  {
   "cell_type": "markdown",
   "id": "2a7ec7dd",
   "metadata": {},
   "source": [
    "Let's do a simple selection sort"
   ]
  },
  {
   "cell_type": "code",
   "execution_count": 143,
   "id": "f51dab02",
   "metadata": {},
   "outputs": [],
   "source": [
    "import numpy as np\n",
    "\n",
    "def selection_sort(x):\n",
    "    for i in range(len(x)):\n",
    "        swap = i + np.argmin(x[i:])\n",
    "        (x[i], x[swap]) = (x[swap], x[i])\n",
    "    return x"
   ]
  },
  {
   "cell_type": "code",
   "execution_count": 144,
   "id": "f0e8d13b",
   "metadata": {},
   "outputs": [
    {
     "data": {
      "text/plain": [
       "array([1, 2, 3, 4, 5])"
      ]
     },
     "execution_count": 144,
     "metadata": {},
     "output_type": "execute_result"
    }
   ],
   "source": [
    "x = np.array([2,1,4,3,5])\n",
    "selection_sort(x)"
   ]
  },
  {
   "cell_type": "markdown",
   "id": "b09eb270",
   "metadata": {},
   "source": [
    "It works but it's slow. \\\n",
    "Let's take a look at the Python and NumPy sort algorithms"
   ]
  },
  {
   "cell_type": "markdown",
   "id": "ea4f2144",
   "metadata": {},
   "source": [
    "## Fast Sorting in NumPy: `np.sort` and `np.argsort`"
   ]
  },
  {
   "cell_type": "markdown",
   "id": "c25d6189",
   "metadata": {},
   "source": [
    "Python has `sort` and `sorted` functions, but NumPy `no.sort` is much more efficient and useful. Complexity is $\\mathcal(N\\,log\\,N)$"
   ]
  },
  {
   "cell_type": "code",
   "execution_count": 145,
   "id": "c5bf180c",
   "metadata": {},
   "outputs": [
    {
     "name": "stdout",
     "output_type": "stream",
     "text": [
      "42.7 ms ± 2.64 ms per loop (mean ± std. dev. of 7 runs, 10 loops each)\n",
      "4.14 ms ± 195 µs per loop (mean ± std. dev. of 7 runs, 100 loops each)\n"
     ]
    }
   ],
   "source": [
    "x = np.random.randint(-1000, 1000, 100000, int)\n",
    "%timeit sorted(x)\n",
    "%timeit np.sort(x) # same as doing x.sort()"
   ]
  },
  {
   "cell_type": "markdown",
   "id": "1472936c",
   "metadata": {},
   "source": [
    "A related fuction is `argsort`, which instead returns the indices of the sorted elements\n"
   ]
  },
  {
   "cell_type": "code",
   "execution_count": 146,
   "id": "e33edc57",
   "metadata": {},
   "outputs": [
    {
     "name": "stdout",
     "output_type": "stream",
     "text": [
      "[1 0 3 2 4]\n",
      "[1 2 3 4 5]\n"
     ]
    }
   ],
   "source": [
    "x = np.array([2,1,4,3,5])\n",
    "i = np.argsort(x)\n",
    "print(i)\n",
    "print(x[i])"
   ]
  },
  {
   "cell_type": "markdown",
   "id": "6e83c75c",
   "metadata": {},
   "source": [
    "### Sorting along rows and columns"
   ]
  },
  {
   "cell_type": "markdown",
   "id": "1ec3da36",
   "metadata": {},
   "source": [
    "With `axis` parameter we can specify what must be sorted"
   ]
  },
  {
   "cell_type": "code",
   "execution_count": 147,
   "id": "6087359c",
   "metadata": {},
   "outputs": [
    {
     "name": "stdout",
     "output_type": "stream",
     "text": [
      "[[6 3 7 4 6 9]\n",
      " [2 6 7 4 3 7]\n",
      " [7 2 5 4 1 7]\n",
      " [5 1 4 0 9 5]]\n"
     ]
    }
   ],
   "source": [
    "rand = np.random.RandomState(42)\n",
    "X = rand.randint(0,10, (4,6))\n",
    "print(X)"
   ]
  },
  {
   "cell_type": "code",
   "execution_count": 148,
   "id": "e996aa49",
   "metadata": {},
   "outputs": [
    {
     "data": {
      "text/plain": [
       "array([[2, 1, 4, 0, 1, 5],\n",
       "       [5, 2, 5, 4, 3, 7],\n",
       "       [6, 3, 7, 4, 6, 7],\n",
       "       [7, 6, 7, 4, 9, 9]])"
      ]
     },
     "execution_count": 148,
     "metadata": {},
     "output_type": "execute_result"
    }
   ],
   "source": [
    "np.sort(X, axis=0) # sort each column"
   ]
  },
  {
   "cell_type": "code",
   "execution_count": 149,
   "id": "a2a17f60",
   "metadata": {},
   "outputs": [
    {
     "data": {
      "text/plain": [
       "array([[3, 4, 6, 6, 7, 9],\n",
       "       [2, 3, 4, 6, 7, 7],\n",
       "       [1, 2, 4, 5, 7, 7],\n",
       "       [0, 1, 4, 5, 5, 9]])"
      ]
     },
     "execution_count": 149,
     "metadata": {},
     "output_type": "execute_result"
    }
   ],
   "source": [
    "np.sort(X, axis=1)"
   ]
  },
  {
   "cell_type": "markdown",
   "id": "e14d4b43",
   "metadata": {},
   "source": [
    "## Partial Sorts: Partitioning"
   ]
  },
  {
   "cell_type": "markdown",
   "id": "e0831b6e",
   "metadata": {},
   "source": [
    "`np.partition` allow to put the $K$ smallest number at the left of the new array"
   ]
  },
  {
   "cell_type": "code",
   "execution_count": 150,
   "id": "0ee603aa",
   "metadata": {},
   "outputs": [
    {
     "data": {
      "text/plain": [
       "array([2, 1, 3, 4, 6, 5, 7])"
      ]
     },
     "execution_count": 150,
     "metadata": {},
     "output_type": "execute_result"
    }
   ],
   "source": [
    "x = np.array([7, 2, 3, 1, 6, 5, 4])\n",
    "np.partition(x, 3)"
   ]
  },
  {
   "cell_type": "markdown",
   "id": "331b8796",
   "metadata": {},
   "source": [
    "This can also be specified with `axis` parameter"
   ]
  },
  {
   "cell_type": "code",
   "execution_count": 151,
   "id": "02f288e9",
   "metadata": {},
   "outputs": [
    {
     "data": {
      "text/plain": [
       "array([[2, 1, 4, 0, 1, 5],\n",
       "       [5, 2, 5, 4, 3, 7],\n",
       "       [6, 3, 7, 4, 6, 7],\n",
       "       [7, 6, 7, 4, 9, 9]])"
      ]
     },
     "execution_count": 151,
     "metadata": {},
     "output_type": "execute_result"
    }
   ],
   "source": [
    "np.partition(X, 2, axis=0)"
   ]
  },
  {
   "cell_type": "markdown",
   "id": "dca7ae30",
   "metadata": {},
   "source": [
    "Just as we had `np.argsort`, we have `np.argpartition`"
   ]
  },
  {
   "cell_type": "markdown",
   "id": "9f4bcd66",
   "metadata": {},
   "source": [
    "## Example: k-nearest neighbors"
   ]
  },
  {
   "cell_type": "markdown",
   "id": "553f1dd3",
   "metadata": {},
   "source": [
    "Let's create a random plane"
   ]
  },
  {
   "cell_type": "code",
   "execution_count": 152,
   "id": "8fcc3a1b",
   "metadata": {},
   "outputs": [
    {
     "name": "stdout",
     "output_type": "stream",
     "text": [
      "[[0.37454012 0.95071431]\n",
      " [0.73199394 0.59865848]\n",
      " [0.15601864 0.15599452]\n",
      " [0.05808361 0.86617615]\n",
      " [0.60111501 0.70807258]\n",
      " [0.02058449 0.96990985]\n",
      " [0.83244264 0.21233911]\n",
      " [0.18182497 0.18340451]\n",
      " [0.30424224 0.52475643]\n",
      " [0.43194502 0.29122914]]\n"
     ]
    }
   ],
   "source": [
    "rand = np.random.RandomState(42)\n",
    "X = rand.rand(10,2)\n",
    "print(X)"
   ]
  },
  {
   "cell_type": "markdown",
   "id": "be082082",
   "metadata": {},
   "source": [
    "Let's plot them"
   ]
  },
  {
   "cell_type": "code",
   "execution_count": 153,
   "id": "fb780bfa",
   "metadata": {},
   "outputs": [
    {
     "data": {
      "text/plain": [
       "<matplotlib.collections.PathCollection at 0x7fae54e211c0>"
      ]
     },
     "execution_count": 153,
     "metadata": {},
     "output_type": "execute_result"
    },
    {
     "data": {
      "image/png": "[encoded data removed]",
      "text/plain": [
       "<Figure size 432x288 with 1 Axes>"
      ]
     },
     "metadata": {},
     "output_type": "display_data"
    }
   ],
   "source": [
    "%matplotlib inline\n",
    "import matplotlib.pyplot as plt\n",
    "import seaborn; seaborn.set()\n",
    "plt.scatter(X[:, 0], X[:, 1], s=100)"
   ]
  },
  {
   "cell_type": "markdown",
   "id": "7904265b",
   "metadata": {},
   "source": [
    "Now we compute the distance between each pair of points"
   ]
  },
  {
   "cell_type": "code",
   "execution_count": 154,
   "id": "e9fda135",
   "metadata": {},
   "outputs": [
    {
     "data": {
      "text/plain": [
       "(10, 10, 2)"
      ]
     },
     "execution_count": 154,
     "metadata": {},
     "output_type": "execute_result"
    }
   ],
   "source": [
    "# for each pair of points, compute differences in their coordinates\n",
    "differences = X[:, np.newaxis, :] - X[np.newaxis, :, :]\n",
    "differences.shape"
   ]
  },
  {
   "cell_type": "code",
   "execution_count": 155,
   "id": "39e94cf3",
   "metadata": {},
   "outputs": [
    {
     "data": {
      "text/plain": [
       "(10, 10, 2)"
      ]
     },
     "execution_count": 155,
     "metadata": {},
     "output_type": "execute_result"
    }
   ],
   "source": [
    "# square the coordinate differences\n",
    "sq_differences = differences ** 2\n",
    "sq_differences.shape"
   ]
  },
  {
   "cell_type": "code",
   "execution_count": 156,
   "id": "b8a2b8b5",
   "metadata": {},
   "outputs": [
    {
     "data": {
      "text/plain": [
       "(10, 10)"
      ]
     },
     "execution_count": 156,
     "metadata": {},
     "output_type": "execute_result"
    }
   ],
   "source": [
    "# sum the coordinate differences to get the squared distance\n",
    "dist_sq = sq_differences.sum(-1)\n",
    "dist_sq.shape"
   ]
  },
  {
   "cell_type": "markdown",
   "id": "16b798f3",
   "metadata": {},
   "source": [
    "Just to double-check, we can look at the diagonal (distance between a point and itself)"
   ]
  },
  {
   "cell_type": "code",
   "execution_count": 157,
   "id": "748ec5ea",
   "metadata": {},
   "outputs": [
    {
     "data": {
      "text/plain": [
       "array([0., 0., 0., 0., 0., 0., 0., 0., 0., 0.])"
      ]
     },
     "execution_count": 157,
     "metadata": {},
     "output_type": "execute_result"
    }
   ],
   "source": [
    "dist_sq.diagonal()"
   ]
  },
  {
   "cell_type": "markdown",
   "id": "d9997899",
   "metadata": {},
   "source": [
    "We can now use `np.argsort` to sort along each row"
   ]
  },
  {
   "cell_type": "code",
   "execution_count": 158,
   "id": "c5a156c9",
   "metadata": {},
   "outputs": [
    {
     "name": "stdout",
     "output_type": "stream",
     "text": [
      "[[0 3 4 5 8 1 9 7 2 6]\n",
      " [1 4 6 9 8 0 7 3 2 5]\n",
      " [2 7 9 8 6 4 3 1 0 5]\n",
      " [3 5 0 8 4 9 7 2 1 6]\n",
      " [4 1 0 8 9 6 3 5 7 2]\n",
      " [5 3 0 8 4 9 1 7 2 6]\n",
      " [6 1 9 4 8 7 2 0 3 5]\n",
      " [7 2 9 8 6 4 1 3 0 5]\n",
      " [8 9 4 7 2 3 0 1 5 6]\n",
      " [9 8 7 2 6 1 4 0 3 5]]\n"
     ]
    }
   ],
   "source": [
    "nearest = np.argsort(dist_sq, axis=1)\n",
    "print(nearest)"
   ]
  },
  {
   "cell_type": "markdown",
   "id": "8076ec5e",
   "metadata": {},
   "source": [
    "The first indice of each row is itself, because the nearest point is itself \\\n",
    "We don't really need to sort all the matrix, but only to find the k nearest neighbors. To do so, we can partition on $K+1$ (+1 to remove self point)"
   ]
  },
  {
   "cell_type": "code",
   "execution_count": 159,
   "id": "21b32399",
   "metadata": {},
   "outputs": [],
   "source": [
    "K = 2\n",
    "nearest_partition = np.argpartition(dist_sq, K+1, axis=1)"
   ]
  },
  {
   "cell_type": "markdown",
   "id": "e261932d",
   "metadata": {},
   "source": [
    "In order to visualize it, let's draw lines between a point and its $K$ nearest neighbors (excluding itself)"
   ]
  },
  {
   "cell_type": "code",
   "execution_count": 160,
   "id": "363e34e8",
   "metadata": {},
   "outputs": [
    {
     "data": {
      "image/png": "[encoded data removed]",
      "text/plain": [
       "<Figure size 432x288 with 1 Axes>"
      ]
     },
     "metadata": {},
     "output_type": "display_data"
    }
   ],
   "source": [
    "plt.scatter(X[:, 0], X[:, 1], s=100)\n",
    "\n",
    "# for each point\n",
    "for i in range(X.shape[0]):\n",
    "    for j in nearest_partition[i, :K+1]:\n",
    "        plt.plot(*zip(X[j], X[i]), color='black')"
   ]
  },
  {
   "cell_type": "markdown",
   "id": "4f523ac9",
   "metadata": {},
   "source": [
    "# Structured Data: NumPy's Structured Arrays"
   ]
  },
  {
   "cell_type": "markdown",
   "id": "c5e25703",
   "metadata": {},
   "source": [
    "Imagine we have several categories of data on a number of people. It would be possible to store these in three seperate arrays:"
   ]
  },
  {
   "cell_type": "code",
   "execution_count": 161,
   "id": "c9e73a2a",
   "metadata": {},
   "outputs": [],
   "source": [
    "name = ['Alice', 'Bob', 'Cathy', 'Doug']\n",
    "age = [25, 45, 37, 19]\n",
    "weight = [55.0, 85.5, 68.0, 61.5]"
   ]
  },
  {
   "cell_type": "markdown",
   "id": "916c32df",
   "metadata": {},
   "source": [
    "Nothing tells us these arrays are related. \\\n",
    "Instead, we can put everything in one array:"
   ]
  },
  {
   "cell_type": "code",
   "execution_count": 162,
   "id": "15f2e2e0",
   "metadata": {},
   "outputs": [
    {
     "name": "stdout",
     "output_type": "stream",
     "text": [
      "[('name', '<U10'), ('age', '<i4'), ('weight', '<f8')]\n"
     ]
    },
    {
     "data": {
      "text/plain": [
       "(4,)"
      ]
     },
     "execution_count": 162,
     "metadata": {},
     "output_type": "execute_result"
    }
   ],
   "source": [
    "x = np.zeros(4, dtype={'names': ('name', 'age', 'weight'),\n",
    "                       'formats': ('U10', 'i4', 'f8')})\n",
    "print(x.dtype)\n",
    "x.shape"
   ]
  },
  {
   "cell_type": "markdown",
   "id": "9fef26d5",
   "metadata": {},
   "source": [
    "We can now store everything inside"
   ]
  },
  {
   "cell_type": "code",
   "execution_count": 163,
   "id": "9608abe9",
   "metadata": {},
   "outputs": [
    {
     "name": "stdout",
     "output_type": "stream",
     "text": [
      "[('Alice', 25, 55. ) ('Bob', 45, 85.5) ('Cathy', 37, 68. )\n",
      " ('Doug', 19, 61.5)]\n"
     ]
    }
   ],
   "source": [
    "x['name'] = name\n",
    "x['age'] = age\n",
    "x['weight'] = weight\n",
    "print(x)"
   ]
  },
  {
   "cell_type": "markdown",
   "id": "ce7fff90",
   "metadata": {},
   "source": [
    "We can now refer them by their names"
   ]
  },
  {
   "cell_type": "code",
   "execution_count": 164,
   "id": "d7641f28",
   "metadata": {},
   "outputs": [
    {
     "name": "stdout",
     "output_type": "stream",
     "text": [
      "['Alice' 'Bob' 'Cathy' 'Doug']\n",
      "('Alice', 25, 55.)\n"
     ]
    }
   ],
   "source": [
    "print(x['name'])\n",
    "print(x[0]) # get all data from first row"
   ]
  },
  {
   "cell_type": "markdown",
   "id": "e096fc9c",
   "metadata": {},
   "source": [
    "Of course, we can also use boolean masking"
   ]
  },
  {
   "cell_type": "code",
   "execution_count": 165,
   "id": "0fe6e762",
   "metadata": {},
   "outputs": [
    {
     "data": {
      "text/plain": [
       "array(['Bob', 'Cathy'], dtype='<U10')"
      ]
     },
     "execution_count": 165,
     "metadata": {},
     "output_type": "execute_result"
    }
   ],
   "source": [
    "x[x['age'] > 30]['name']"
   ]
  },
  {
   "cell_type": "markdown",
   "id": "3500de8b",
   "metadata": {},
   "source": [
    "## Creating Structured Arrays"
   ]
  },
  {
   "cell_type": "markdown",
   "id": "e5cdc1d3",
   "metadata": {},
   "source": [
    "As we saw, we can create structured arrays with the dictionary method:"
   ]
  },
  {
   "cell_type": "code",
   "execution_count": 166,
   "id": "2f871ea4",
   "metadata": {},
   "outputs": [
    {
     "data": {
      "text/plain": [
       "dtype([('name', '<U10'), ('age', '<i4'), ('weight', '<f8')])"
      ]
     },
     "execution_count": 166,
     "metadata": {},
     "output_type": "execute_result"
    }
   ],
   "source": [
    "np.dtype({'names':('name', 'age', 'weight'),\n",
    "          'formats':('U10', 'i4', 'f8')})"
   ]
  },
  {
   "cell_type": "markdown",
   "id": "470d1a38",
   "metadata": {},
   "source": [
    "Numerical types can be specified using Python types of NumPy `dtype`s instead (like `np.str_`, `np.float32`)"
   ]
  },
  {
   "cell_type": "markdown",
   "id": "29cff239",
   "metadata": {},
   "source": [
    "## More Advanced Compound Types"
   ]
  },
  {
   "cell_type": "markdown",
   "id": "01fcdbed",
   "metadata": {},
   "source": [
    "Imagine we want to create a data type with a `mat` component (3x3 matrix)"
   ]
  },
  {
   "cell_type": "code",
   "execution_count": 167,
   "id": "bf6e04ae",
   "metadata": {},
   "outputs": [
    {
     "name": "stdout",
     "output_type": "stream",
     "text": [
      "(0, [[0., 0., 0.], [0., 0., 0.], [0., 0., 0.]])\n",
      "[[0. 0. 0.]\n",
      " [0. 0. 0.]\n",
      " [0. 0. 0.]]\n"
     ]
    }
   ],
   "source": [
    "tp = np.dtype([('id', 'i8'), ('mat', 'f8', (3, 3))])\n",
    "X = np.zeros(1, dtype=tp)\n",
    "print(X[0])\n",
    "print(X['mat'][0])"
   ]
  }
 ],
 "metadata": {
  "kernelspec": {
   "display_name": "Python 3.9.12 ('base')",
   "language": "python",
   "name": "python3"
  },
  "language_info": {
   "codemirror_mode": {
    "name": "ipython",
    "version": 3
   },
   "file_extension": ".py",
   "mimetype": "text/x-python",
   "name": "python",
   "nbconvert_exporter": "python",
   "pygments_lexer": "ipython3",
   "version": "3.9.12 (main, Apr  5 2022, 06:56:58) \n[GCC 7.5.0]"
  },
  "vscode": {
   "interpreter": {
    "hash": "387a5f9c6e231f014a7dd46e3f051128872e2b0dd62314f06449038202bc40cf"
   }
  }
 },
 "nbformat": 4,
 "nbformat_minor": 5
}
