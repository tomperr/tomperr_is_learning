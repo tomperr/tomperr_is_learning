{
 "cells": [
  {
   "cell_type": "markdown",
   "metadata": {},
   "source": [
    "# What Is Machine Learning"
   ]
  },
  {
   "cell_type": "markdown",
   "metadata": {},
   "source": [
    "It is a subfield of artificial intelligence. It's more helpful to think of machine learning as a means of *building models of data*"
   ]
  },
  {
   "cell_type": "markdown",
   "metadata": {},
   "source": [
    "## Categories of Machine Learning"
   ]
  },
  {
   "cell_type": "markdown",
   "metadata": {},
   "source": [
    "**Supervised learning** involves having the relationship between inputs and a label. This is subdivided into *classification* tasks and *regression* tasks."
   ]
  },
  {
   "cell_type": "markdown",
   "metadata": {},
   "source": [
    "**Unsupervised learning** involves modeling the features without reference to any label. It includes *clusteting* and *dimensionality reduction*."
   ]
  },
  {
   "cell_type": "markdown",
   "metadata": {},
   "source": [
    "**Semi-supervised learning** often use when only incomplete labels are available."
   ]
  }
 ],
 "metadata": {
  "kernelspec": {
   "display_name": "base",
   "language": "python",
   "name": "python3"
  },
  "language_info": {
   "name": "python",
   "version": "3.9.12 (main, Apr  5 2022, 06:56:58) \n[GCC 7.5.0]"
  },
  "orig_nbformat": 4,
  "vscode": {
   "interpreter": {
    "hash": "387a5f9c6e231f014a7dd46e3f051128872e2b0dd62314f06449038202bc40cf"
   }
  }
 },
 "nbformat": 4,
 "nbformat_minor": 2
}
