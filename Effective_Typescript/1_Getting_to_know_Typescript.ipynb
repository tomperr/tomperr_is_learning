{
 "cells": [
  {
   "cell_type": "markdown",
   "metadata": {},
   "source": [
    "# Getting to know Typescript"
   ]
  },
  {
   "cell_type": "markdown",
   "metadata": {},
   "source": [
    "Typescript compiles to another language: Javascript."
   ]
  },
  {
   "cell_type": "markdown",
   "metadata": {},
   "source": [
    "## Item 1: Understand the relationship between TS and JS"
   ]
  },
  {
   "cell_type": "markdown",
   "metadata": {},
   "source": [
    "TS is a superset of JS. It uses `.ts` or `.tsx` extension file rather than `.js` or `.jsx`.\n",
    "Every JS script is a TS script."
   ]
  },
  {
   "cell_type": "code",
   "execution_count": 3,
   "metadata": {},
   "outputs": [],
   "source": [
    "function greet(who: string) {\n",
    "    console.log('Hello', who);\n",
    "}"
   ]
  },
  {
   "cell_type": "markdown",
   "metadata": {},
   "source": [
    "The code above won't work in a Javascript interpreter, as the `who: string` is a TS annotation."
   ]
  },
  {
   "cell_type": "code",
   "execution_count": 4,
   "metadata": {},
   "outputs": [
    {
     "name": "stderr",
     "output_type": "stream",
     "text": [
      "2:18 - Property 'toUppercase' does not exist on type 'string'. Did you mean 'toUpperCase'?\n"
     ]
    }
   ],
   "source": [
    "let city = 'new york city';\n",
    "console.log(city.toUppercase());"
   ]
  },
  {
   "cell_type": "markdown",
   "metadata": {},
   "source": [
    "The code above is spotted by the TS type checker. In JS, it would raise a `TypeError`.\n",
    "String has been detected using type inference."
   ]
  },
  {
   "cell_type": "code",
   "execution_count": null,
   "metadata": {},
   "outputs": [],
   "source": [
    "const states = [\n",
    "    {name: 'Alabama', capital: 'Montgomery'},\n",
    "    {name: 'Alaska', capital: 'Juneau'},\n",
    "    {name: 'Arizona', capital: 'Phoenix'},\n",
    "    // ...\n",
    "];\n",
    "for (const state of states) {\n",
    "    console.log(state.capitol);\n",
    "}"
   ]
  },
  {
   "cell_type": "markdown",
   "metadata": {},
   "source": [
    "In JS, it would have returned 3 times `undefined`"
   ]
  },
  {
   "cell_type": "markdown",
   "metadata": {},
   "source": [
    "What is make the mistake in the `states` variable?"
   ]
  },
  {
   "cell_type": "code",
   "execution_count": null,
   "metadata": {},
   "outputs": [],
   "source": [
    "const states = [\n",
    "    {name: 'Alabama', capitol: 'Montgomery'},\n",
    "    {name: 'Alaska', capitol: 'Juneau'},\n",
    "    {name: 'Arizona', capitol: 'Phoenix'},\n",
    "    // ...\n",
    "];\n",
    "for (const state of states) {\n",
    "    console.log(state.capital);\n",
    "}"
   ]
  },
  {
   "cell_type": "markdown",
   "metadata": {},
   "source": [
    "Now the warning is the opposite of what we want. To be clear, let's define an `inteface`."
   ]
  },
  {
   "cell_type": "code",
   "execution_count": null,
   "metadata": {},
   "outputs": [],
   "source": [
    "interface State {\n",
    "    name: string;\n",
    "    capital: string;\n",
    "}\n",
    "const states: State[] = [\n",
    "    {name: 'Alabama', capitol: 'Montgomery'},\n",
    "    {name: 'Alaska', capitol: 'Juneau'},\n",
    "    {name: 'Arizona', capitol: 'Phoenix'},\n",
    "    // ...\n",
    "];\n",
    "for (const state of states) {\n",
    "    console.log(state.capital);\n",
    "}"
   ]
  },
  {
   "cell_type": "markdown",
   "metadata": {},
   "source": [
    "We now see clearly the error."
   ]
  },
  {
   "cell_type": "markdown",
   "metadata": {},
   "source": [
    "TS's type system models the runtime behavior of Javascript."
   ]
  },
  {
   "cell_type": "code",
   "execution_count": null,
   "metadata": {},
   "outputs": [],
   "source": [
    "const x = 2 + '3'; // OK, type is string\n",
    "const y = '2' + 3; // OK, type is string"
   ]
  },
  {
   "cell_type": "code",
   "execution_count": 5,
   "metadata": {},
   "outputs": [
    {
     "name": "stderr",
     "output_type": "stream",
     "text": [
      "1:11 - Operator '+' cannot be applied to types 'null' and '7'.\n",
      "2:11 - Operator '+' cannot be applied to types 'undefined[]' and 'number'.\n"
     ]
    }
   ],
   "source": [
    "const a = null + 7; // Evaluates to 7 in JS\n",
    "const b = [] + 12; // Evaluates to '12' in JS"
   ]
  },
  {
   "cell_type": "code",
   "execution_count": 6,
   "metadata": {},
   "outputs": [
    {
     "name": "stderr",
     "output_type": "stream",
     "text": [
      "1:14 - Expected 1 arguments, but got 2.\n"
     ]
    }
   ],
   "source": [
    "greet(\"tom\", \"baptiste\")"
   ]
  },
  {
   "cell_type": "markdown",
   "metadata": {},
   "source": [
    "Sometimes, it goes over the JS's behavior"
   ]
  },
  {
   "cell_type": "markdown",
   "metadata": {},
   "source": [
    "Even with type checking, errors can be raised at runtime."
   ]
  },
  {
   "cell_type": "code",
   "execution_count": 7,
   "metadata": {},
   "outputs": [
    {
     "name": "stderr",
     "output_type": "stream",
     "text": [
      "evalmachine.<anonymous>:5\n",
      "exports.tsLastExpr = console.log(names[2].toUpperCase());\n",
      "                                          ^\n",
      "\n",
      "TypeError: Cannot read properties of undefined (reading 'toUpperCase')\n",
      "    at evalmachine.<anonymous>:5:43\n",
      "    at evalmachine.<anonymous>:7:3\n",
      "    at sigintHandlersWrap (node:vm:268:12)\n",
      "    at Script.runInThisContext (node:vm:127:14)\n",
      "    at Object.runInThisContext (node:vm:305:38)\n",
      "    at Object.execute (/home/tomperr/.nvm/versions/node/v16.13.1/lib/node_modules/tslab/dist/executor.js:162:38)\n",
      "    at JupyterHandlerImpl.handleExecuteImpl (/home/tomperr/.nvm/versions/node/v16.13.1/lib/node_modules/tslab/dist/jupyter.js:219:38)\n",
      "    at /home/tomperr/.nvm/versions/node/v16.13.1/lib/node_modules/tslab/dist/jupyter.js:177:57\n",
      "    at async JupyterHandlerImpl.handleExecute (/home/tomperr/.nvm/versions/node/v16.13.1/lib/node_modules/tslab/dist/jupyter.js:177:21)\n",
      "    at async ZmqServer.handleExecute (/home/tomperr/.nvm/versions/node/v16.13.1/lib/node_modules/tslab/dist/jupyter.js:375:25)\n"
     ]
    }
   ],
   "source": [
    "const names = ['Alice', 'Bob'];\n",
    "console.log(names[2].toUpperCase());"
   ]
  },
  {
   "cell_type": "markdown",
   "metadata": {},
   "source": [
    "### Things to remember"
   ]
  },
  {
   "cell_type": "markdown",
   "metadata": {},
   "source": [
    "TS is a superset of JS. It has a type system that models JS behaviour, but that goes beyound sometimes. "
   ]
  },
  {
   "cell_type": "markdown",
   "metadata": {},
   "source": [
    "## Item 2: Know which TS options you're using"
   ]
  },
  {
   "cell_type": "markdown",
   "metadata": {},
   "source": [
    "Let's take the example of the code bellow:"
   ]
  },
  {
   "cell_type": "code",
   "execution_count": 11,
   "metadata": {},
   "outputs": [
    {
     "name": "stdout",
     "output_type": "stream",
     "text": [
      "10\n"
     ]
    }
   ],
   "source": [
    "function add(a, b) {\n",
    "    return a + b;\n",
    "}\n",
    "add(10, null);"
   ]
  },
  {
   "cell_type": "markdown",
   "metadata": {},
   "source": [
    "Should it transpile or not. It depends on the TS compiler options, that can be passed via command line or via config file `tsconfig.json`"
   ]
  },
  {
   "cell_type": "markdown",
   "metadata": {},
   "source": [
    "```json\n",
    "{\n",
    "    \"compilerOptions\": {\n",
    "        \"noImplicitAny\": true\n",
    "    }\n",
    "}\n",
    "```"
   ]
  },
  {
   "cell_type": "markdown",
   "metadata": {},
   "source": [
    "When we over the name of the function with the mouse, with `noImplicitAny: False`, it shows the `any` types"
   ]
  },
  {
   "cell_type": "markdown",
   "metadata": {},
   "source": [
    "For new projects, we should start with `noImplicitAny` on, so that we write the types as we write the code."
   ]
  },
  {
   "cell_type": "markdown",
   "metadata": {},
   "source": [
    "`strictNullChecks` controls whether `null` and undefined are permissible values in every type"
   ]
  },
  {
   "cell_type": "code",
   "execution_count": 1,
   "metadata": {},
   "outputs": [],
   "source": [
    "const x: number = null;"
   ]
  },
  {
   "cell_type": "markdown",
   "metadata": {},
   "source": [
    "With `strictNullChecks` on, the code above would crash, and we would have been forced to use:"
   ]
  },
  {
   "cell_type": "code",
   "execution_count": 2,
   "metadata": {},
   "outputs": [],
   "source": [
    "const x: number | null = null;"
   ]
  },
  {
   "cell_type": "code",
   "execution_count": 3,
   "metadata": {},
   "outputs": [],
   "source": [
    "function toUpper(a: string | null) {\n",
    "    return a?.toUpperCase() // with the ?, we assume it's not null\n",
    "}"
   ]
  },
  {
   "cell_type": "markdown",
   "metadata": {},
   "source": [
    "There are many other options."
   ]
  },
  {
   "cell_type": "markdown",
   "metadata": {},
   "source": [
    "### Things to remember"
   ]
  },
  {
   "cell_type": "markdown",
   "metadata": {},
   "source": [
    "TS compiler includes several settings, via `tsconfig.json` or via command line. Aim to enable `strict` to get the most thorough checking that TS can offer."
   ]
  },
  {
   "cell_type": "markdown",
   "metadata": {},
   "source": [
    "## Item 3: Understand that code generation is independent of types"
   ]
  },
  {
   "cell_type": "markdown",
   "metadata": {},
   "source": [
    "`tsc` compiler does two things: convert TS/JS to an older JS that works in browser; it checks code for type errors. These are unrelated: the types won't affect the JS that is generated."
   ]
  },
  {
   "cell_type": "markdown",
   "metadata": {},
   "source": [
    "### Compiling and type checking"
   ]
  },
  {
   "cell_type": "markdown",
   "metadata": {},
   "source": [
    "It's wrong to say that \"TS doesn't compile\" because of errors. If it's valid JS, TS compiler will produce an output. It's more correct to say that it has errors or that \"it doesn't type check\""
   ]
  },
  {
   "cell_type": "code",
   "execution_count": 5,
   "metadata": {},
   "outputs": [
    {
     "name": "stderr",
     "output_type": "stream",
     "text": [
      "2:1 - Cannot find name 'name'.\n"
     ]
    }
   ],
   "source": [
    "const username = \"tom\";\n",
    "name = 12\n",
    "// valid JS, so a JS output will still be produced"
   ]
  },
  {
   "cell_type": "markdown",
   "metadata": {},
   "source": [
    "### You cannot check typescript types at runtime"
   ]
  },
  {
   "cell_type": "code",
   "execution_count": 6,
   "metadata": {},
   "outputs": [
    {
     "name": "stderr",
     "output_type": "stream",
     "text": [
      "9:26 - 'Rectangle' only refers to a type, but is being used as a value here.\n",
      "12:36 - Property 'height' does not exist on type 'Shape'.\n",
      "12:36 - Property 'height' does not exist on type 'Square'.\n"
     ]
    }
   ],
   "source": [
    "interface Square {\n",
    "    width: number;\n",
    "}\n",
    "interface Rectangle extends Square {\n",
    "    height: number;\n",
    "}\n",
    "type Shape = Square | Rectangle;\n",
    "function calculateArea(shape: Shape) {\n",
    "    if (shape instanceof Rectangle) {\n",
    "        // ~~~~~~~~~ 'Rectangle' only refers to a type,\n",
    "        // but is being used as a value here\n",
    "        return shape.width * shape.height;\n",
    "        // ~~~~~~ Property 'height' does not exist\n",
    "        // on type 'Shape'\n",
    "    } else {\n",
    "        return shape.width * shape.width;\n",
    "    }\n",
    "}"
   ]
  },
  {
   "cell_type": "markdown",
   "metadata": {},
   "source": [
    "Here, we use `Rectangle` TS type as a value, which is impossible because `Rectangle` exists only for compiler, not at runtime."
   ]
  },
  {
   "cell_type": "code",
   "execution_count": 7,
   "metadata": {},
   "outputs": [],
   "source": [
    "class Square {\n",
    "    constructor(public width: number) {}\n",
    "};\n",
    "\n",
    "class Rectangle extends Square {\n",
    "    constructor(public width: number, public height: number) {\n",
    "        super(width)\n",
    "    }\n",
    "}\n",
    "\n",
    "type Shape = Square | Rectangle;\n",
    "\n",
    "function calculateArea(shape: Shape) {\n",
    "    if (shape instanceof Rectangle) {\n",
    "        return shape.height * shape.width;\n",
    "    } else {\n",
    "        return shape.width * shape.width;\n",
    "    }\n",
    "}"
   ]
  },
  {
   "cell_type": "markdown",
   "metadata": {},
   "source": [
    "This code works because class `Rectangle` introduces both a `type` and a `value`"
   ]
  },
  {
   "cell_type": "markdown",
   "metadata": {},
   "source": [
    "### Type operations cannot affect runtime values"
   ]
  },
  {
   "cell_type": "code",
   "execution_count": 8,
   "metadata": {},
   "outputs": [],
   "source": [
    "function asNumber(val: number | string): number {\n",
    "    return val as number;\n",
    "}"
   ]
  },
  {
   "cell_type": "markdown",
   "metadata": {},
   "source": [
    "generates this JS code"
   ]
  },
  {
   "cell_type": "code",
   "execution_count": 9,
   "metadata": {},
   "outputs": [],
   "source": [
    "function asNumber(val) {\n",
    "    return val;\n",
    "}"
   ]
  },
  {
   "cell_type": "markdown",
   "metadata": {},
   "source": [
    "To normalize values, we need to check their runtime type."
   ]
  },
  {
   "cell_type": "code",
   "execution_count": 10,
   "metadata": {},
   "outputs": [],
   "source": [
    "function asNumber(val: number | string): number {\n",
    "    return typeof(val) === 'string' ? Number(val) : val;\n",
    "}"
   ]
  },
  {
   "cell_type": "markdown",
   "metadata": {},
   "source": [
    "### Runtime types may not be the same as declared types"
   ]
  },
  {
   "cell_type": "code",
   "execution_count": 12,
   "metadata": {},
   "outputs": [],
   "source": [
    "function setLightSwitch(value: boolean) {\n",
    "    switch (value) {\n",
    "        case true:\n",
    "            //turnLightOn();\n",
    "            break;\n",
    "        case false:\n",
    "            //turnLightOff();\n",
    "            break;\n",
    "        default:\n",
    "            console.log(`I'm afraid I can't do that.`);\n",
    "    }\n",
    "}"
   ]
  },
  {
   "cell_type": "markdown",
   "metadata": {},
   "source": [
    "At runtime, `value` param may not be a boolean."
   ]
  },
  {
   "cell_type": "markdown",
   "metadata": {},
   "source": [
    "### You cannot overload a function based on typescript types"
   ]
  },
  {
   "cell_type": "markdown",
   "metadata": {},
   "source": [
    "The only way to *provide* overloading is to do"
   ]
  },
  {
   "cell_type": "code",
   "execution_count": 17,
   "metadata": {},
   "outputs": [
    {
     "name": "stderr",
     "output_type": "stream",
     "text": [
      "10:14 - No overload matches this call.\n",
      "10:14 - Overload 1 of 2, '(a: number, b: number): number', gave the following error.\n",
      "10:14 - Argument of type 'string' is not assignable to parameter of type 'number'.\n",
      "10:14 - Overload 2 of 2, '(a: string, b: string): string', gave the following error.\n",
      "10:14 - Argument of type 'number' is not assignable to parameter of type 'string'.\n"
     ]
    }
   ],
   "source": [
    "function toAdd(a: number, b: number): number;\n",
    "function toAdd(a: string, b: string): string;\n",
    "\n",
    "function toAdd(a, b) {\n",
    "    return a+b;\n",
    "}\n",
    "\n",
    "const three = toAdd(1,2) // number\n",
    "const ten = toAdd(\"5\", \"5\") // string\n",
    "const zero = toAdd(0, \"0\") // error"
   ]
  },
  {
   "cell_type": "markdown",
   "metadata": {},
   "source": [
    "### Typescript types have no effect on runtime performance"
   ]
  },
  {
   "cell_type": "markdown",
   "metadata": {},
   "source": [
    "No impact because they are erased after transpilation. It's truly zero cost. Instead, there is build time. Also, the generated code may have some overhead."
   ]
  },
  {
   "cell_type": "markdown",
   "metadata": {},
   "source": [
    "### Things to remember"
   ]
  },
  {
   "cell_type": "markdown",
   "metadata": {},
   "source": [
    "Code gen is independent of the type system. TS cannot affect the runtime behavior. It is possible to have a generated JS file even with errors. TS types are not available at runtime."
   ]
  },
  {
   "cell_type": "markdown",
   "metadata": {},
   "source": [
    "## Item 4: Get confortable with structural typing"
   ]
  },
  {
   "cell_type": "markdown",
   "metadata": {},
   "source": [
    "\"If it walks like a duck and talks lick a duck...\""
   ]
  },
  {
   "cell_type": "code",
   "execution_count": 18,
   "metadata": {},
   "outputs": [],
   "source": [
    "interface Vector2D {\n",
    "    x: number;\n",
    "    y: number;\n",
    "}"
   ]
  },
  {
   "cell_type": "code",
   "execution_count": 19,
   "metadata": {},
   "outputs": [],
   "source": [
    "function calculateLength(v: Vector2D) {\n",
    "    return Math.sqrt(v.x * v.x + v.y * v.y);\n",
    "}"
   ]
  },
  {
   "cell_type": "code",
   "execution_count": 20,
   "metadata": {},
   "outputs": [],
   "source": [
    "interface NamedVector {\n",
    "    name: string;\n",
    "    x: number;\n",
    "    y: number;\n",
    "}"
   ]
  },
  {
   "cell_type": "code",
   "execution_count": 22,
   "metadata": {},
   "outputs": [
    {
     "name": "stdout",
     "output_type": "stream",
     "text": [
      "2.23606797749979\n"
     ]
    }
   ],
   "source": [
    "const v: NamedVector = {name: \"batman\", x:1, y:2};\n",
    "calculateLength(v);"
   ]
  },
  {
   "cell_type": "markdown",
   "metadata": {},
   "source": [
    "No error is produced because `NamedVector` also has `x` and `y` properties, and TS recognizes it, even that we didn't describe the relationship between `Vector2D` and `NamedVector`"
   ]
  },
  {
   "cell_type": "markdown",
   "metadata": {},
   "source": [
    "However, sometimes, it can produce bugs "
   ]
  },
  {
   "cell_type": "code",
   "execution_count": 23,
   "metadata": {},
   "outputs": [],
   "source": [
    "interface Vector3D {\n",
    "    x: number;\n",
    "    y: number;\n",
    "    z: number;\n",
    "}"
   ]
  },
  {
   "cell_type": "code",
   "execution_count": 24,
   "metadata": {},
   "outputs": [],
   "source": [
    "function normalize(v: Vector3D) {\n",
    "    const length = calculateLength(v)\n",
    "    return {\n",
    "        x: v.x / length,\n",
    "        y: v.y / length,\n",
    "        z: v.z / length,\n",
    "    }\n",
    "}"
   ]
  },
  {
   "cell_type": "markdown",
   "metadata": {},
   "source": [
    "Here, `length` is computed with only `x` and `y` values, which is mathematically wrong."
   ]
  },
  {
   "cell_type": "markdown",
   "metadata": {},
   "source": [
    "It's easy to imagine that objects will be called with having the properties we have declared and no others (what we call \"sealed\" object). However, it TS / JS, objects are always \"open\""
   ]
  },
  {
   "cell_type": "code",
   "execution_count": 26,
   "metadata": {},
   "outputs": [],
   "source": [
    "function calculateLengthL1(v: Vector3D) {\n",
    "    let length = 0;\n",
    "    for (const axis of Object.keys(v)) {\n",
    "        const coord = v[axis];\n",
    "        // ~~~~~~~ Element implicitly has an 'any' type because ...\n",
    "        // 'string' can't be used to index type 'Vector3D'\n",
    "        length += Math.abs(coord);\n",
    "    }\n",
    "    return length;\n",
    "}"
   ]
  },
  {
   "cell_type": "markdown",
   "metadata": {},
   "source": [
    "This code can lead to bug, as the objects is not sealed and keys other than `x`, `y` and `z` can exist. Other properties may not be numbers."
   ]
  },
  {
   "cell_type": "code",
   "execution_count": 28,
   "metadata": {},
   "outputs": [
    {
     "name": "stdout",
     "output_type": "stream",
     "text": [
      "NaN\n"
     ]
    }
   ],
   "source": [
    "const vec3d = {x: 1, y: 2, z: 3, name: \"joker\"};\n",
    "calculateLengthL1(vec3d)"
   ]
  },
  {
   "cell_type": "markdown",
   "metadata": {},
   "source": [
    "Some other suprises can happen with classes"
   ]
  },
  {
   "cell_type": "code",
   "execution_count": 29,
   "metadata": {},
   "outputs": [],
   "source": [
    "class C {\n",
    "    foo: string;\n",
    "    constructor(foo: string) {\n",
    "        this.foo = foo + \"!\"\n",
    "    }\n",
    "}"
   ]
  },
  {
   "cell_type": "code",
   "execution_count": 32,
   "metadata": {},
   "outputs": [],
   "source": [
    "const c = new C(\"hey\");\n",
    "const d: C = {foo: \"hey\"}"
   ]
  },
  {
   "cell_type": "code",
   "execution_count": 36,
   "metadata": {},
   "outputs": [
    {
     "name": "stdout",
     "output_type": "stream",
     "text": [
      "C { foo: 'hey!' } { foo: 'hey' }\n"
     ]
    }
   ],
   "source": [
    "console.log(c, d)"
   ]
  },
  {
   "cell_type": "markdown",
   "metadata": {},
   "source": [
    "Here, the logic in the constructor has been skipped, but as the properties / constructor signature matche, there is no error."
   ]
  },
  {
   "cell_type": "markdown",
   "metadata": {},
   "source": [
    "Structural typing is beneficial when writing test, it allows to mock easily."
   ]
  },
  {
   "cell_type": "code",
   "execution_count": 38,
   "metadata": {},
   "outputs": [],
   "source": [
    "interface Author {\n",
    "    first: string;\n",
    "    last: string;\n",
    "}\n",
    "\n",
    "interface DB {\n",
    "    runQuery: (sql: string) => any[];\n",
    "}\n",
    "\n",
    "function getAuthors(database: DB): Author[] {\n",
    "    const authorRows = database.runQuery(\"SELECT first, last FROM authors\");\n",
    "    return authorRows.map(row => ({first: row[0], last: row[1]}));\n",
    "}"
   ]
  },
  {
   "cell_type": "markdown",
   "metadata": {},
   "source": [
    "To mock the db during test, simply create an object with a custom `runQuery` method"
   ]
  },
  {
   "cell_type": "code",
   "execution_count": 42,
   "metadata": {},
   "outputs": [],
   "source": [
    "const mockedDB: DB = {\n",
    "    runQuery(sql: string): any[] {\n",
    "        return [['Toni', 'Morrison'], ['Maya', 'Angelou']];\n",
    "    }\n",
    "}"
   ]
  },
  {
   "cell_type": "markdown",
   "metadata": {},
   "source": [
    "### Things to remember"
   ]
  },
  {
   "cell_type": "markdown",
   "metadata": {},
   "source": [
    "JS is duck typed and TS uses structural typing. Types are not sealed but open. We may not have only the properties we expect (even for classes). Use structural typing to facilitate unit testing."
   ]
  },
  {
   "cell_type": "markdown",
   "metadata": {},
   "source": [
    "## Item 5: Limit use of the any type"
   ]
  },
  {
   "cell_type": "markdown",
   "metadata": {},
   "source": [
    "Typing is optional, it can be disabled at any time use `any` type"
   ]
  },
  {
   "cell_type": "code",
   "execution_count": 43,
   "metadata": {},
   "outputs": [
    {
     "name": "stdout",
     "output_type": "stream",
     "text": [
      "12\n"
     ]
    }
   ],
   "source": [
    "let age: number;\n",
    "age = '12' as any"
   ]
  },
  {
   "cell_type": "markdown",
   "metadata": {},
   "source": [
    "Even if it is really convenient, it also eliminates many of the advantages of using TS."
   ]
  },
  {
   "cell_type": "markdown",
   "metadata": {},
   "source": [
    "### There is no type safety with `any` types "
   ]
  },
  {
   "cell_type": "markdown",
   "metadata": {},
   "source": [
    "`age` is supposed to be a `number`, but is in fact a `string` because we used `any`. Let's unleash the chaos."
   ]
  },
  {
   "cell_type": "code",
   "execution_count": 44,
   "metadata": {},
   "outputs": [
    {
     "name": "stdout",
     "output_type": "stream",
     "text": [
      "121\n"
     ]
    }
   ],
   "source": [
    "age += 1"
   ]
  },
  {
   "cell_type": "markdown",
   "metadata": {},
   "source": [
    "### `any` lets you break contracts (signatures)"
   ]
  },
  {
   "cell_type": "code",
   "execution_count": 47,
   "metadata": {},
   "outputs": [
    {
     "name": "stdout",
     "output_type": "stream",
     "text": [
      "1\n"
     ]
    }
   ],
   "source": [
    "function calculateAge(birthDate: Date): number {\n",
    "    return 1; // mock, just for example\n",
    "}\n",
    "\n",
    "let birthDate: any = '2022-11-29';\n",
    "calculateAge(birthDate)"
   ]
  },
  {
   "cell_type": "markdown",
   "metadata": {},
   "source": [
    "No error because of the use of `any` type"
   ]
  },
  {
   "cell_type": "markdown",
   "metadata": {},
   "source": [
    "### There are no languages services for `any` types"
   ]
  },
  {
   "cell_type": "markdown",
   "metadata": {},
   "source": [
    "IDE / code editor won't give you any hint when using `any` type (e.g. autocompletion)"
   ]
  },
  {
   "cell_type": "code",
   "execution_count": 49,
   "metadata": {},
   "outputs": [],
   "source": [
    "let person: any = {first: \"tom\", last: \"perr\"};\n",
    "// try to type `person.`, no available autocompletion "
   ]
  },
  {
   "cell_type": "markdown",
   "metadata": {},
   "source": [
    "It removes a lot of IDE features (not only autocomplete)"
   ]
  },
  {
   "cell_type": "markdown",
   "metadata": {},
   "source": [
    "### Things to remember"
   ]
  },
  {
   "cell_type": "markdown",
   "metadata": {},
   "source": [
    "`any` silences type checker, and also eliminates TS advantages. Avoid using it if possible."
   ]
  }
 ],
 "metadata": {
  "kernelspec": {
   "display_name": "TypeScript",
   "language": "typescript",
   "name": "tslab"
  },
  "language_info": {
   "codemirror_mode": {
    "mode": "typescript",
    "name": "javascript",
    "typescript": true
   },
   "file_extension": ".ts",
   "mimetype": "text/typescript",
   "name": "typescript",
   "version": "3.7.2"
  },
  "orig_nbformat": 4,
  "vscode": {
   "interpreter": {
    "hash": "387a5f9c6e231f014a7dd46e3f051128872e2b0dd62314f06449038202bc40cf"
   }
  }
 },
 "nbformat": 4,
 "nbformat_minor": 2
}
