{
 "cells": [
  {
   "cell_type": "markdown",
   "metadata": {},
   "source": [
    "# Typescript's Type System"
   ]
  },
  {
   "cell_type": "markdown",
   "metadata": {},
   "source": [
    "## Item 6: Use your editor to interrogate and explorate the type system"
   ]
  },
  {
   "cell_type": "markdown",
   "metadata": {},
   "source": [
    "When TS is installed, we get two executables:\n",
    "- `tsc`, the TS compiler\n",
    "- `tsserver`, the TS standalone server\n",
    "\n",
    "The server provides server, mostly used by the IDE (formatring, inspection, refactoring...).\n",
    "\n",
    "Editors can infer types, give hints, refactor... using this server."
   ]
  },
  {
   "cell_type": "markdown",
   "metadata": {},
   "source": [
    "## Item 7: Think of types as sets of values"
   ]
  },
  {
   "cell_type": "markdown",
   "metadata": {},
   "source": [
    "The smallest set is the empty set, which corresponds to the `never` type"
   ]
  },
  {
   "cell_type": "code",
   "execution_count": 5,
   "metadata": {},
   "outputs": [
    {
     "name": "stderr",
     "output_type": "stream",
     "text": [
      "1:5 - Type 'number' is not assignable to type 'never'.\n"
     ]
    }
   ],
   "source": [
    "let x: never = 12;"
   ]
  },
  {
   "cell_type": "markdown",
   "metadata": {},
   "source": [
    "The next smallest are the one which contains single values."
   ]
  },
  {
   "cell_type": "code",
   "execution_count": null,
   "metadata": {},
   "outputs": [],
   "source": [
    "type A = 'A';\n",
    "type B = 'B';\n",
    "type Twelve = 12;"
   ]
  },
  {
   "cell_type": "markdown",
   "metadata": {},
   "source": [
    "Then two or three values"
   ]
  },
  {
   "cell_type": "code",
   "execution_count": 7,
   "metadata": {},
   "outputs": [],
   "source": [
    "type AB = 'A' | 'B'\n",
    "type AB12 = 'A' | 'B' | 12"
   ]
  },
  {
   "cell_type": "code",
   "execution_count": 8,
   "metadata": {},
   "outputs": [
    {
     "name": "stderr",
     "output_type": "stream",
     "text": [
      "2:1 - Type '13' is not assignable to type 'AB12'.\n"
     ]
    }
   ],
   "source": [
    "let a: AB12 = 12; // ok\n",
    "a = 13; // ko"
   ]
  },
  {
   "cell_type": "code",
   "execution_count": 9,
   "metadata": {},
   "outputs": [
    {
     "name": "stderr",
     "output_type": "stream",
     "text": [
      "2:5 - Type 'AB12' is not assignable to type 'AB'.\n",
      "2:5 - Type '12' is not assignable to type 'AB'.\n"
     ]
    }
   ],
   "source": [
    "declare let ab12: AB12;\n",
    "let b: AB = ab12; // error because AB is NOT a superset of AB12 "
   ]
  },
  {
   "cell_type": "markdown",
   "metadata": {},
   "source": [
    "As sets, we can do arithmetic operations on them"
   ]
  },
  {
   "cell_type": "code",
   "execution_count": 15,
   "metadata": {},
   "outputs": [],
   "source": [
    "interface Person {\n",
    "    name: string;\n",
    "    age: number;\n",
    "}\n",
    "\n",
    "interface Employee {\n",
    "    grade: string;\n",
    "}\n",
    "\n",
    "// just for the example, it makes more sense to extend the first interface\n",
    "type EmployeePerson = Person & Employee;\n",
    "let ep: EmployeePerson = {\n",
    "    name: \"truc\",\n",
    "    age: 12,\n",
    "    grade: \"boss\"\n",
    "}"
   ]
  },
  {
   "cell_type": "markdown",
   "metadata": {},
   "source": [
    "We might speak of `subtypes` when a type is derived from another"
   ]
  },
  {
   "cell_type": "code",
   "execution_count": 16,
   "metadata": {},
   "outputs": [],
   "source": [
    "interface Vector1D {x: number};\n",
    "interface Vector2D extends Vector1D {y: number};\n",
    "interface Vector3D extends Vector2D {z: number};"
   ]
  },
  {
   "cell_type": "markdown",
   "metadata": {},
   "source": [
    "In a generic type, `extend` also means \"subset of\" in this context"
   ]
  },
  {
   "cell_type": "code",
   "execution_count": 17,
   "metadata": {},
   "outputs": [],
   "source": [
    "function getKey<K extends string>(val: any, key: K) {\n",
    "    // ...\n",
    "}"
   ]
  },
  {
   "cell_type": "code",
   "execution_count": 19,
   "metadata": {},
   "outputs": [
    {
     "name": "stderr",
     "output_type": "stream",
     "text": [
      "3:12 - Argument of type 'number' is not assignable to parameter of type 'string'.\n"
     ]
    }
   ],
   "source": [
    "getKey({}, 'x'); // 'x' extends string\n",
    "getKey({}, Math.random() < 0.5 ? 'a' : 'b'); // 'a'|'b' extends string\n",
    "getKey({}, 12); // NOPE"
   ]
  },
  {
   "cell_type": "code",
   "execution_count": 20,
   "metadata": {},
   "outputs": [
    {
     "name": "stderr",
     "output_type": "stream",
     "text": [
      "1:59 - A function whose declared type is neither 'void' nor 'any' must return a value.\n"
     ]
    }
   ],
   "source": [
    "function sortBy<K extends keyof T, T>(vals: T[], key: K): T[] {\n",
    "    return vals // just for example\n",
    "}"
   ]
  },
  {
   "cell_type": "markdown",
   "metadata": {},
   "source": [
    "## Item 8: Know how to tell whether a symbol is in the type space of value space"
   ]
  },
  {
   "cell_type": "code",
   "execution_count": 22,
   "metadata": {},
   "outputs": [],
   "source": [
    "interface Cylinder {\n",
    "    radius: number;\n",
    "    height: number;\n",
    "}\n",
    "\n",
    "let Cylinder = (radius: number, height: number): Cylinder => ({radius, height});"
   ]
  },
  {
   "cell_type": "markdown",
   "metadata": {},
   "source": [
    "The `interface` defines `Cylinder` in the type scope, whereas `Cylinder` function is in the value space."
   ]
  },
  {
   "cell_type": "code",
   "execution_count": 24,
   "metadata": {},
   "outputs": [],
   "source": [
    "const v = typeof Cylinder; // Value is \"function\"\n",
    "type T = typeof Cylinder; // Type is typeof Cylinder"
   ]
  },
  {
   "cell_type": "markdown",
   "metadata": {},
   "source": [
    "`obj['field']` and `obj.field` are both defined in value space, but not in type space"
   ]
  },
  {
   "cell_type": "code",
   "execution_count": null,
   "metadata": {},
   "outputs": [],
   "source": [
    "let sendEmail = ({address: string, subject: string, body: string}) => {\n",
    "    // ...\n",
    "}"
   ]
  },
  {
   "cell_type": "markdown",
   "metadata": {},
   "source": [
    "We can't use destructuring assignment in TS, we split types and values."
   ]
  },
  {
   "cell_type": "code",
   "execution_count": 31,
   "metadata": {},
   "outputs": [],
   "source": [
    "let sendEmail = (\n",
    "    {address, subject, body}: {address: string, subject: string, body: string}\n",
    ") => {\n",
    "    // ...\n",
    "}"
   ]
  },
  {
   "cell_type": "markdown",
   "metadata": {},
   "source": [
    "## Item 9: Prefer type declarations to type assertions"
   ]
  },
  {
   "cell_type": "code",
   "execution_count": 37,
   "metadata": {},
   "outputs": [],
   "source": [
    "interface Person1 {name: string};\n",
    "\n",
    "let alice: Person1 = {name: \"Alice\"}; // type is Person1\n",
    "let bob = {name: \"Bob\"} as Person1 // type is Person1"
   ]
  },
  {
   "cell_type": "markdown",
   "metadata": {},
   "source": [
    "Prefer type declaration (first instruction) as type assertions (second instruction). Type assertion are a kind of \"cast\" "
   ]
  },
  {
   "cell_type": "code",
   "execution_count": 33,
   "metadata": {},
   "outputs": [
    {
     "name": "stderr",
     "output_type": "stream",
     "text": [
      "1:5 - Property 'name' is missing in type '{}' but required in type 'Person1'.\n"
     ]
    }
   ],
   "source": [
    "let alice2: Person1 = {} // error, which is great\n",
    "let bob2 = {} as Person1 // no error detected because of type assertion"
   ]
  },
  {
   "cell_type": "code",
   "execution_count": 35,
   "metadata": {},
   "outputs": [
    {
     "name": "stderr",
     "output_type": "stream",
     "text": [
      "3:5 - Type '{ name: string; occupation: string; }' is not assignable to type 'Person1'.\n",
      "3:5 - Object literal may only specify known properties, and 'occupation' does not exist in type 'Person1'.\n"
     ]
    }
   ],
   "source": [
    "let alice3: Person1 = {\n",
    "    name: \"alice\",\n",
    "    occupation: \"developer\"\n",
    "} // error because occupaation is not referenced \n",
    "let bob3 = {\n",
    "    name: \"bob\",\n",
    "    occupation: \"developer\"\n",
    "} as Person1"
   ]
  },
  {
   "cell_type": "markdown",
   "metadata": {},
   "source": [
    "Type assertion makes sense when you have more information than Typescript (e.g. when fetching a DOM element)"
   ]
  },
  {
   "cell_type": "markdown",
   "metadata": {},
   "source": [
    "Used as a suffix, `!` is interpreted as an assertion that the value is non-null."
   ]
  },
  {
   "cell_type": "markdown",
   "metadata": {},
   "source": [
    "Using `unknown` makes every assertion possible (because every type is a subset of `unknown`), even the most suspicious ones"
   ]
  },
  {
   "cell_type": "code",
   "execution_count": 47,
   "metadata": {},
   "outputs": [
    {
     "name": "stderr",
     "output_type": "stream",
     "text": [
      "1:16 - Conversion of type '{ fullname: string; }' to type 'Person1' may be a mistake because neither type sufficiently overlaps with the other. If this was intentional, convert the expression to 'unknown' first.\n",
      "1:16 - Property 'name' is missing in type '{ fullname: string; }' but required in type 'Person1'.\n"
     ]
    }
   ],
   "source": [
    "const pierre = {fullname: \"pierre\"} as Person1 // error\n",
    "const marie = {fullname: \"marie\"} as unknown as Person1"
   ]
  },
  {
   "cell_type": "markdown",
   "metadata": {},
   "source": [
    "Unlike `any`, you cannot access any properties of `unknown`"
   ]
  },
  {
   "cell_type": "code",
   "execution_count": 50,
   "metadata": {},
   "outputs": [
    {
     "name": "stderr",
     "output_type": "stream",
     "text": [
      "2:5 - Property 'name' does not exist on type 'unknown'.\n"
     ]
    }
   ],
   "source": [
    "let tom = {name: \"tom\"} as unknown\n",
    "tom.name // KO\n",
    "let tom2 = tom as Person1\n",
    "tom2.name // OK"
   ]
  },
  {
   "cell_type": "markdown",
   "metadata": {},
   "source": [
    "## Item 10: Avoid object wrapper types (String, Number, Boolean, Symbol, BigInt)"
   ]
  },
  {
   "cell_type": "markdown",
   "metadata": {},
   "source": [
    "Don't use type wrappers (e.g. `String` instead of real primitive type `string`). If you still want, it's OK to call them without `new`"
   ]
  },
  {
   "cell_type": "code",
   "execution_count": 51,
   "metadata": {},
   "outputs": [
    {
     "name": "stdout",
     "output_type": "stream",
     "text": [
      "false\n"
     ]
    }
   ],
   "source": [
    "\"a\" === new String('a')"
   ]
  },
  {
   "cell_type": "code",
   "execution_count": 53,
   "metadata": {},
   "outputs": [
    {
     "name": "stdout",
     "output_type": "stream",
     "text": [
      "true\n"
     ]
    }
   ],
   "source": [
    "\"a\" === String('a')"
   ]
  },
  {
   "cell_type": "code",
   "execution_count": 56,
   "metadata": {},
   "outputs": [
    {
     "name": "stdout",
     "output_type": "stream",
     "text": [
      "string\n"
     ]
    }
   ],
   "source": [
    "typeof String(\"a\")"
   ]
  },
  {
   "cell_type": "code",
   "execution_count": 57,
   "metadata": {},
   "outputs": [
    {
     "name": "stdout",
     "output_type": "stream",
     "text": [
      "object\n"
     ]
    }
   ],
   "source": [
    "typeof new String(\"a\")"
   ]
  },
  {
   "cell_type": "markdown",
   "metadata": {},
   "source": [
    "## Item 11: Recognize the limits of excess property checking"
   ]
  },
  {
   "cell_type": "code",
   "execution_count": 67,
   "metadata": {},
   "outputs": [],
   "source": [
    "interface Room {\n",
    "    numDoors: number;\n",
    "    ceilingHeightFt: number;\n",
    "}"
   ]
  },
  {
   "cell_type": "code",
   "execution_count": 69,
   "metadata": {},
   "outputs": [
    {
     "name": "stderr",
     "output_type": "stream",
     "text": [
      "4:5 - Type '{ numDoors: number; ceilingHeightFt: number; elephant: string; }' is not assignable to type 'Room'.\n",
      "4:5 - Object literal may only specify known properties, and 'elephant' does not exist in type 'Room'.\n"
     ]
    }
   ],
   "source": [
    "const r: Room = {\n",
    "    numDoors: 1,\n",
    "    ceilingHeightFt: 10,\n",
    "    elephant: 'present',   \n",
    "};"
   ]
  },
  {
   "cell_type": "markdown",
   "metadata": {},
   "source": [
    "But this will work with assignation"
   ]
  },
  {
   "cell_type": "code",
   "execution_count": 73,
   "metadata": {},
   "outputs": [],
   "source": [
    "const obj = {\n",
    "    numDoors: 1,\n",
    "    ceilingHeightFt: 10,\n",
    "    elephant: 'present'\n",
    "}\n",
    "\n",
    "const room: Room = obj;"
   ]
  },
  {
   "cell_type": "markdown",
   "metadata": {},
   "source": [
    "In the first case, we have triggered a process knwon as \"excess property checking\", but not in the second one"
   ]
  },
  {
   "cell_type": "markdown",
   "metadata": {},
   "source": [
    "## Item 12: Apply types to entire function expressions when possible"
   ]
  },
  {
   "cell_type": "code",
   "execution_count": 74,
   "metadata": {},
   "outputs": [],
   "source": [
    "function add(a: number, b: number) { return a + b; }\n",
    "function sub(a: number, b: number) { return a - b; }\n",
    "function mul(a: number, b: number) { return a * b; }\n",
    "function div(a: number, b: number) { return a / b; }"
   ]
  },
  {
   "cell_type": "markdown",
   "metadata": {},
   "source": [
    "To avoid annotations, we can add types to the entire function"
   ]
  },
  {
   "cell_type": "code",
   "execution_count": 76,
   "metadata": {},
   "outputs": [],
   "source": [
    "type BinaryFn = (a: number, b: number) => number;\n",
    "const simpleAdd: BinaryFn = (a, b) => a + b;\n",
    "const simpleSub: BinaryFn = (a, b) => a - b;\n",
    "const simpleMul: BinaryFn = (a, b) => a * b;\n",
    "const simpleDiv: BinaryFn = (a, b) => a / b;"
   ]
  },
  {
   "cell_type": "markdown",
   "metadata": {},
   "source": [
    "Also, for async functions based on fetch"
   ]
  },
  {
   "cell_type": "code",
   "execution_count": null,
   "metadata": {},
   "outputs": [],
   "source": [
    "declare function fetch(\n",
    "    input: RequestInfo, init?: RequestInit\n",
    "): Promise<Response>;"
   ]
  },
  {
   "cell_type": "code",
   "execution_count": null,
   "metadata": {},
   "outputs": [],
   "source": [
    "async function checkedFetch(input: RequestInfo, init?: RequestInit) {\n",
    "    const response = await fetch(input, init);\n",
    "    if (!response.ok) {\n",
    "        // Converted to a rejected Promise in an async function\n",
    "        throw new Error('Request failed: ' + response.status);\n",
    "    }\n",
    "    return response;\n",
    "}"
   ]
  },
  {
   "cell_type": "markdown",
   "metadata": {},
   "source": [
    "can be turned into"
   ]
  },
  {
   "cell_type": "code",
   "execution_count": null,
   "metadata": {},
   "outputs": [],
   "source": [
    "const checkedFetch: typeof fetch = async (input, init) => {\n",
    "    const response = await fetch(input, init);\n",
    "    if (!response.ok) {\n",
    "        throw new Error('Request failed: ' + response.status);\n",
    "    }\n",
    "    return response;\n",
    "}"
   ]
  },
  {
   "cell_type": "markdown",
   "metadata": {},
   "source": [
    "## Item 13: Know the differences between type and interface"
   ]
  },
  {
   "cell_type": "markdown",
   "metadata": {},
   "source": [
    "Pretty much the same for a lot of situations."
   ]
  },
  {
   "cell_type": "markdown",
   "metadata": {},
   "source": [
    "You can't union interfaces"
   ]
  },
  {
   "cell_type": "markdown",
   "metadata": {},
   "source": [
    "You can augment an interface, it's called \"declaration merging\" "
   ]
  },
  {
   "cell_type": "code",
   "execution_count": 2,
   "metadata": {},
   "outputs": [],
   "source": [
    "interface IState {\n",
    "    name: string;\n",
    "    capital: string;\n",
    "}\n",
    "interface IState {\n",
    "    population: number;\n",
    "}\n",
    "const wyoming: IState = {\n",
    "    name: 'Wyoming',\n",
    "    capital: 'Cheyenne',\n",
    "    population: 500_000\n",
    "}; // OK"
   ]
  },
  {
   "cell_type": "markdown",
   "metadata": {},
   "source": [
    "## Item 14: Use type operations and generics to avoid repeating yourself"
   ]
  },
  {
   "cell_type": "markdown",
   "metadata": {},
   "source": [
    "Use more `&` and `|` operations to concat / intersect types"
   ]
  },
  {
   "cell_type": "markdown",
   "metadata": {},
   "source": [
    "Use `Partial`, `Pick`, `ReturnType` utility types"
   ]
  }
 ],
 "metadata": {
  "kernelspec": {
   "display_name": "TypeScript",
   "language": "typescript",
   "name": "tslab"
  },
  "language_info": {
   "codemirror_mode": {
    "mode": "typescript",
    "name": "javascript",
    "typescript": true
   },
   "file_extension": ".ts",
   "mimetype": "text/typescript",
   "name": "typescript",
   "version": "3.7.2"
  },
  "orig_nbformat": 4
 },
 "nbformat": 4,
 "nbformat_minor": 2
}
