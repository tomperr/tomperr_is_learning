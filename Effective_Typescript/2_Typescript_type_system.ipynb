{
 "cells": [
  {
   "cell_type": "markdown",
   "metadata": {},
   "source": [
    "# Typescript's Type System"
   ]
  },
  {
   "cell_type": "markdown",
   "metadata": {},
   "source": [
    "## Item 6: Use your editor to interrogate and explorate the type system"
   ]
  },
  {
   "cell_type": "markdown",
   "metadata": {},
   "source": [
    "When TS is installed, we get two executables:\n",
    "- `tsc`, the TS compiler\n",
    "- `tsserver`, the TS standalone server\n",
    "\n",
    "The server provides server, mostly used by the IDE (formatring, inspection, refactoring...).\n",
    "\n",
    "Editors can infer types, give hints, refactor... using this server."
   ]
  },
  {
   "cell_type": "markdown",
   "metadata": {},
   "source": [
    "## Item 7: Think of types as sets of values"
   ]
  },
  {
   "cell_type": "markdown",
   "metadata": {},
   "source": [
    "The smallest set is the empty set, which corresponds to the `never` type"
   ]
  },
  {
   "cell_type": "code",
   "execution_count": 5,
   "metadata": {},
   "outputs": [
    {
     "name": "stderr",
     "output_type": "stream",
     "text": [
      "1:5 - Type 'number' is not assignable to type 'never'.\n"
     ]
    }
   ],
   "source": [
    "let x: never = 12;"
   ]
  },
  {
   "cell_type": "markdown",
   "metadata": {},
   "source": [
    "The next smallest are the one which contains single values."
   ]
  },
  {
   "cell_type": "code",
   "execution_count": null,
   "metadata": {},
   "outputs": [],
   "source": [
    "type A = 'A';\n",
    "type B = 'B';\n",
    "type Twelve = 12;"
   ]
  },
  {
   "cell_type": "markdown",
   "metadata": {},
   "source": [
    "Then two or three values"
   ]
  },
  {
   "cell_type": "code",
   "execution_count": 7,
   "metadata": {},
   "outputs": [],
   "source": [
    "type AB = 'A' | 'B'\n",
    "type AB12 = 'A' | 'B' | 12"
   ]
  },
  {
   "cell_type": "code",
   "execution_count": 8,
   "metadata": {},
   "outputs": [
    {
     "name": "stderr",
     "output_type": "stream",
     "text": [
      "2:1 - Type '13' is not assignable to type 'AB12'.\n"
     ]
    }
   ],
   "source": [
    "let a: AB12 = 12; // ok\n",
    "a = 13; // ko"
   ]
  },
  {
   "cell_type": "code",
   "execution_count": 9,
   "metadata": {},
   "outputs": [
    {
     "name": "stderr",
     "output_type": "stream",
     "text": [
      "2:5 - Type 'AB12' is not assignable to type 'AB'.\n",
      "2:5 - Type '12' is not assignable to type 'AB'.\n"
     ]
    }
   ],
   "source": [
    "declare let ab12: AB12;\n",
    "let b: AB = ab12; // error because AB is NOT a superset of AB12 "
   ]
  },
  {
   "cell_type": "markdown",
   "metadata": {},
   "source": [
    "As sets, we can do arithmetic operations on them"
   ]
  },
  {
   "cell_type": "code",
   "execution_count": 15,
   "metadata": {},
   "outputs": [],
   "source": [
    "interface Person {\n",
    "    name: string;\n",
    "    age: number;\n",
    "}\n",
    "\n",
    "interface Employee {\n",
    "    grade: string;\n",
    "}\n",
    "\n",
    "// just for the example, it makes more sense to extend the first interface\n",
    "type EmployeePerson = Person & Employee;\n",
    "let ep: EmployeePerson = {\n",
    "    name: \"truc\",\n",
    "    age: 12,\n",
    "    grade: \"boss\"\n",
    "}"
   ]
  },
  {
   "cell_type": "markdown",
   "metadata": {},
   "source": [
    "We might speak of `subtypes` when a type is derived from another"
   ]
  },
  {
   "cell_type": "code",
   "execution_count": 16,
   "metadata": {},
   "outputs": [],
   "source": [
    "interface Vector1D {x: number};\n",
    "interface Vector2D extends Vector1D {y: number};\n",
    "interface Vector3D extends Vector2D {z: number};"
   ]
  },
  {
   "cell_type": "markdown",
   "metadata": {},
   "source": [
    "In a generic type, `extend` also means \"subset of\" in this context"
   ]
  },
  {
   "cell_type": "code",
   "execution_count": 17,
   "metadata": {},
   "outputs": [],
   "source": [
    "function getKey<K extends string>(val: any, key: K) {\n",
    "    // ...\n",
    "}"
   ]
  },
  {
   "cell_type": "code",
   "execution_count": 19,
   "metadata": {},
   "outputs": [
    {
     "name": "stderr",
     "output_type": "stream",
     "text": [
      "3:12 - Argument of type 'number' is not assignable to parameter of type 'string'.\n"
     ]
    }
   ],
   "source": [
    "getKey({}, 'x'); // 'x' extends string\n",
    "getKey({}, Math.random() < 0.5 ? 'a' : 'b'); // 'a'|'b' extends string\n",
    "getKey({}, 12); // NOPE"
   ]
  },
  {
   "cell_type": "code",
   "execution_count": 20,
   "metadata": {},
   "outputs": [
    {
     "name": "stderr",
     "output_type": "stream",
     "text": [
      "1:59 - A function whose declared type is neither 'void' nor 'any' must return a value.\n"
     ]
    }
   ],
   "source": [
    "function sortBy<K extends keyof T, T>(vals: T[], key: K): T[] {\n",
    "    return vals // just for example\n",
    "}"
   ]
  },
  {
   "cell_type": "markdown",
   "metadata": {},
   "source": [
    "## Item 8: Know how to tell whether a symbol is in the type space of value space"
   ]
  },
  {
   "cell_type": "code",
   "execution_count": 22,
   "metadata": {},
   "outputs": [],
   "source": [
    "interface Cylinder {\n",
    "    radius: number;\n",
    "    height: number;\n",
    "}\n",
    "\n",
    "let Cylinder = (radius: number, height: number): Cylinder => ({radius, height});"
   ]
  },
  {
   "cell_type": "markdown",
   "metadata": {},
   "source": [
    "The `interface` defines `Cylinder` in the type scope, whereas `Cylinder` function is in the value space."
   ]
  },
  {
   "cell_type": "code",
   "execution_count": 24,
   "metadata": {},
   "outputs": [],
   "source": [
    "const v = typeof Cylinder; // Value is \"function\"\n",
    "type T = typeof Cylinder; // Type is typeof Cylinder"
   ]
  },
  {
   "cell_type": "markdown",
   "metadata": {},
   "source": [
    "`obj['field']` and `obj.field` are both defined in value space, but not in type space"
   ]
  },
  {
   "cell_type": "code",
   "execution_count": null,
   "metadata": {},
   "outputs": [],
   "source": [
    "let sendEmail = ({address: string, subject: string, body: string}) => {\n",
    "    // ...\n",
    "}"
   ]
  },
  {
   "cell_type": "markdown",
   "metadata": {},
   "source": [
    "We can't use destructuring assignment in TS, we split types and values."
   ]
  },
  {
   "cell_type": "code",
   "execution_count": 31,
   "metadata": {},
   "outputs": [],
   "source": [
    "let sendEmail = (\n",
    "    {address, subject, body}: {address: string, subject: string, body: string}\n",
    ") => {\n",
    "    // ...\n",
    "}"
   ]
  }
 ],
 "metadata": {
  "kernelspec": {
   "display_name": "TypeScript",
   "language": "typescript",
   "name": "tslab"
  },
  "language_info": {
   "codemirror_mode": {
    "mode": "typescript",
    "name": "javascript",
    "typescript": true
   },
   "file_extension": ".ts",
   "mimetype": "text/typescript",
   "name": "typescript",
   "version": "3.7.2"
  },
  "orig_nbformat": 4
 },
 "nbformat": 4,
 "nbformat_minor": 2
}
